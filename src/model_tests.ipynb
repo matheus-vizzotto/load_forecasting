{
 "cells": [
  {
   "cell_type": "code",
   "execution_count": 1,
   "metadata": {},
   "outputs": [
    {
     "name": "stderr",
     "output_type": "stream",
     "text": [
      "c:\\Users\\user\\anaconda3\\envs\\load_forecasting\\lib\\site-packages\\statsforecast\\core.py:21: TqdmExperimentalWarning: Using `tqdm.autonotebook.tqdm` in notebook mode. Use `tqdm.tqdm` instead to force console mode (e.g. in jupyter console)\n",
      "  from tqdm.autonotebook import tqdm\n"
     ]
    }
   ],
   "source": [
    "import pandas as pd\n",
    "from utils import data_wrangling as dw\n",
    "from utils import ts_wrangling as tw\n",
    "from models import autoarima_model as am\n",
    "import matplotlib.pyplot as plt\n",
    "from statsforecast import StatsForecast\n",
    "from statsforecast.models import AutoARIMA\n",
    "\n",
    "from statsforecast.models import (\n",
    "    AutoARIMA,\n",
    "    HoltWinters,\n",
    "    CrostonClassic as Croston, \n",
    "    CrostonOptimized,\n",
    "    TSB,\n",
    "    MSTL,\n",
    "    HistoricAverage,\n",
    "    DynamicOptimizedTheta as DOT,\n",
    "    SeasonalNaive,\n",
    "    AutoETS,\n",
    "    AutoCES,\n",
    "    AutoTheta,\n",
    ")"
   ]
  },
  {
   "cell_type": "code",
   "execution_count": 2,
   "metadata": {},
   "outputs": [],
   "source": [
    "INIT = \"2012-01-01\"\n",
    "END = \"2023-02-28\"\n",
    "PERIOD = 24*365\n",
    "HORIZON = 24*2"
   ]
  },
  {
   "cell_type": "markdown",
   "metadata": {},
   "source": [
    "# Dados"
   ]
  },
  {
   "cell_type": "code",
   "execution_count": 3,
   "metadata": {},
   "outputs": [
    {
     "name": "stdout",
     "output_type": "stream",
     "text": [
      "<class 'pandas.core.frame.DataFrame'>\n",
      "DatetimeIndex: 8760 entries, 2022-03-01 00:00:00 to 2023-02-28 23:00:00\n",
      "Data columns (total 3 columns):\n",
      " #   Column      Non-Null Count  Dtype   \n",
      "---  ------      --------------  -----   \n",
      " 0   id_reg      8760 non-null   category\n",
      " 1   desc_reg    8760 non-null   category\n",
      " 2   load_mwmed  8760 non-null   float64 \n",
      "dtypes: category(2), float64(1)\n",
      "memory usage: 154.4 KB\n"
     ]
    }
   ],
   "source": [
    "load = dw.ons_data(freq='h', ano_inicio=2012, ano_fim=2023, idreg=\"S\")\n",
    "df_load = dw.pipeline(load).loc[INIT:END,:]\n",
    "df_load = df_load.iloc[-PERIOD:,:]\n",
    "df_load.info()"
   ]
  },
  {
   "cell_type": "code",
   "execution_count": 4,
   "metadata": {},
   "outputs": [
    {
     "data": {
      "text/html": [
       "<div>\n",
       "<style scoped>\n",
       "    .dataframe tbody tr th:only-of-type {\n",
       "        vertical-align: middle;\n",
       "    }\n",
       "\n",
       "    .dataframe tbody tr th {\n",
       "        vertical-align: top;\n",
       "    }\n",
       "\n",
       "    .dataframe thead th {\n",
       "        text-align: right;\n",
       "    }\n",
       "</style>\n",
       "<table border=\"1\" class=\"dataframe\">\n",
       "  <thead>\n",
       "    <tr style=\"text-align: right;\">\n",
       "      <th></th>\n",
       "      <th>load_mwmed</th>\n",
       "    </tr>\n",
       "  </thead>\n",
       "  <tbody>\n",
       "    <tr>\n",
       "      <th>count</th>\n",
       "      <td>8760.000000</td>\n",
       "    </tr>\n",
       "    <tr>\n",
       "      <th>mean</th>\n",
       "      <td>11641.760189</td>\n",
       "    </tr>\n",
       "    <tr>\n",
       "      <th>std</th>\n",
       "      <td>2295.359889</td>\n",
       "    </tr>\n",
       "    <tr>\n",
       "      <th>min</th>\n",
       "      <td>5755.558000</td>\n",
       "    </tr>\n",
       "    <tr>\n",
       "      <th>25%</th>\n",
       "      <td>9782.649250</td>\n",
       "    </tr>\n",
       "    <tr>\n",
       "      <th>50%</th>\n",
       "      <td>11768.670030</td>\n",
       "    </tr>\n",
       "    <tr>\n",
       "      <th>75%</th>\n",
       "      <td>13344.280750</td>\n",
       "    </tr>\n",
       "    <tr>\n",
       "      <th>max</th>\n",
       "      <td>18345.403000</td>\n",
       "    </tr>\n",
       "  </tbody>\n",
       "</table>\n",
       "</div>"
      ],
      "text/plain": [
       "         load_mwmed\n",
       "count   8760.000000\n",
       "mean   11641.760189\n",
       "std     2295.359889\n",
       "min     5755.558000\n",
       "25%     9782.649250\n",
       "50%    11768.670030\n",
       "75%    13344.280750\n",
       "max    18345.403000"
      ]
     },
     "execution_count": 4,
     "metadata": {},
     "output_type": "execute_result"
    }
   ],
   "source": [
    "df_load.describe()"
   ]
  },
  {
   "cell_type": "code",
   "execution_count": 5,
   "metadata": {},
   "outputs": [],
   "source": [
    "train, test = tw.train_test_split(df_load, test=HORIZON)"
   ]
  },
  {
   "cell_type": "markdown",
   "metadata": {},
   "source": [
    "# Modelos"
   ]
  },
  {
   "cell_type": "code",
   "execution_count": 23,
   "metadata": {},
   "outputs": [],
   "source": [
    "df_fc = am.auto_arima_model(df=train, h_=HORIZON)"
   ]
  },
  {
   "cell_type": "code",
   "execution_count": 29,
   "metadata": {},
   "outputs": [
    {
     "data": {
      "text/html": [
       "<div>\n",
       "<style scoped>\n",
       "    .dataframe tbody tr th:only-of-type {\n",
       "        vertical-align: middle;\n",
       "    }\n",
       "\n",
       "    .dataframe tbody tr th {\n",
       "        vertical-align: top;\n",
       "    }\n",
       "\n",
       "    .dataframe thead th {\n",
       "        text-align: right;\n",
       "    }\n",
       "</style>\n",
       "<table border=\"1\" class=\"dataframe\">\n",
       "  <thead>\n",
       "    <tr style=\"text-align: right;\">\n",
       "      <th></th>\n",
       "      <th>ds</th>\n",
       "      <th>AutoARIMA</th>\n",
       "    </tr>\n",
       "    <tr>\n",
       "      <th>unique_id</th>\n",
       "      <th></th>\n",
       "      <th></th>\n",
       "    </tr>\n",
       "  </thead>\n",
       "  <tbody>\n",
       "    <tr>\n",
       "      <th>hourly_load</th>\n",
       "      <td>2023-02-27 00:00:00</td>\n",
       "      <td>10583.355469</td>\n",
       "    </tr>\n",
       "    <tr>\n",
       "      <th>hourly_load</th>\n",
       "      <td>2023-02-27 01:00:00</td>\n",
       "      <td>10007.152344</td>\n",
       "    </tr>\n",
       "    <tr>\n",
       "      <th>hourly_load</th>\n",
       "      <td>2023-02-27 02:00:00</td>\n",
       "      <td>9638.824219</td>\n",
       "    </tr>\n",
       "    <tr>\n",
       "      <th>hourly_load</th>\n",
       "      <td>2023-02-27 03:00:00</td>\n",
       "      <td>9451.693359</td>\n",
       "    </tr>\n",
       "    <tr>\n",
       "      <th>hourly_load</th>\n",
       "      <td>2023-02-27 04:00:00</td>\n",
       "      <td>9384.501953</td>\n",
       "    </tr>\n",
       "  </tbody>\n",
       "</table>\n",
       "</div>"
      ],
      "text/plain": [
       "                             ds     AutoARIMA\n",
       "unique_id                                    \n",
       "hourly_load 2023-02-27 00:00:00  10583.355469\n",
       "hourly_load 2023-02-27 01:00:00  10007.152344\n",
       "hourly_load 2023-02-27 02:00:00   9638.824219\n",
       "hourly_load 2023-02-27 03:00:00   9451.693359\n",
       "hourly_load 2023-02-27 04:00:00   9384.501953"
      ]
     },
     "execution_count": 29,
     "metadata": {},
     "output_type": "execute_result"
    }
   ],
   "source": [
    "df_fc.head()"
   ]
  },
  {
   "cell_type": "code",
   "execution_count": 36,
   "metadata": {},
   "outputs": [
    {
     "data": {
      "image/png": "[encoded data removed]",
      "text/plain": [
       "<Figure size 1500x200 with 1 Axes>"
      ]
     },
     "metadata": {},
     "output_type": "display_data"
    }
   ],
   "source": [
    "plt.figure(figsize=(15,2))\n",
    "plt.plot(df_fc.ds, df_fc.AutoARIMA, label=\"forecast\")\n",
    "plt.plot(test.index, test.load_mwmed, label=\"test\")\n",
    "plt.legend()\n",
    "plt.show()"
   ]
  },
  {
   "cell_type": "code",
   "execution_count": null,
   "metadata": {},
   "outputs": [],
   "source": [
    "forecasts_df = sf.forecast(h=48, level=[90])"
   ]
  },
  {
   "cell_type": "markdown",
   "metadata": {},
   "source": [
    "# Comparação de modelos"
   ]
  },
  {
   "cell_type": "code",
   "execution_count": 6,
   "metadata": {},
   "outputs": [],
   "source": [
    "df_sf = dw.prepare_statsforecast_df(train, \"hourly_load\")"
   ]
  },
  {
   "cell_type": "code",
   "execution_count": 30,
   "metadata": {},
   "outputs": [],
   "source": [
    "models = [\n",
    "    AutoARIMA(season_length=24),\n",
    "    #HoltWinters(), #erro: nonseasonal\n",
    "    Croston(),\n",
    "    CrostonOptimized(),\n",
    "    SeasonalNaive(season_length=24),\n",
    "    HistoricAverage(),\n",
    "    DOT(season_length=24),\n",
    "    #TSB(),\n",
    "    MSTL(season_length=[24, 24*7]),\n",
    "    HistoricAverage(),\n",
    "    AutoETS(),\n",
    "    AutoCES(),\n",
    "    AutoTheta()\n",
    "]"
   ]
  },
  {
   "cell_type": "code",
   "execution_count": 31,
   "metadata": {},
   "outputs": [],
   "source": [
    "sf = StatsForecast(\n",
    "    df=df_sf, \n",
    "    models=models,\n",
    "    freq='H', \n",
    "    n_jobs=-1,\n",
    "    fallback_model = SeasonalNaive(season_length=24)\n",
    ")"
   ]
  },
  {
   "cell_type": "code",
   "execution_count": 32,
   "metadata": {},
   "outputs": [
    {
     "data": {
      "text/plain": [
       "StatsForecast(models=[AutoARIMA,CrostonClassic,CrostonOptimized,SeasonalNaive,HistoricAverage,DynamicOptimizedTheta,MSTL,HistoricAverage,AutoETS,CES,AutoTheta])"
      ]
     },
     "execution_count": 32,
     "metadata": {},
     "output_type": "execute_result"
    }
   ],
   "source": [
    "sf.fit(df_sf)"
   ]
  },
  {
   "cell_type": "code",
   "execution_count": 33,
   "metadata": {},
   "outputs": [],
   "source": [
    "forecasts_df = sf.forecast(h=48, level=[99, 95, 90])\n",
    "\n",
    "forecasts_df.head()"
   ]
  },
  {
   "cell_type": "code",
   "execution_count": null,
   "metadata": {},
   "outputs": [],
   "source": []
  }
 ],
 "metadata": {
  "kernelspec": {
   "display_name": "load_forecasting",
   "language": "python",
   "name": "python3"
  },
  "language_info": {
   "codemirror_mode": {
    "name": "ipython",
    "version": 3
   },
   "file_extension": ".py",
   "mimetype": "text/x-python",
   "name": "python",
   "nbconvert_exporter": "python",
   "pygments_lexer": "ipython3",
   "version": "3.8.16"
  },
  "orig_nbformat": 4
 },
 "nbformat": 4,
 "nbformat_minor": 2
}
