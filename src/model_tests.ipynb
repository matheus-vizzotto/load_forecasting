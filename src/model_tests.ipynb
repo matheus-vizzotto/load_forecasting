{
 "cells": [
  {
   "cell_type": "code",
   "execution_count": 19,
   "metadata": {},
   "outputs": [],
   "source": [
    "import pandas as pd\n",
    "from utils import data_wrangling as dw\n",
    "from statsforecast import StatsForecast\n",
    "from statsforecast.models import AutoARIMA"
   ]
  },
  {
   "cell_type": "code",
   "execution_count": 14,
   "metadata": {},
   "outputs": [],
   "source": [
    "INIT = \"2012-01-01\"\n",
    "END = \"2023-02-28\""
   ]
  },
  {
   "cell_type": "code",
   "execution_count": 15,
   "metadata": {},
   "outputs": [
    {
     "name": "stdout",
     "output_type": "stream",
     "text": [
      "<class 'pandas.core.frame.DataFrame'>\n",
      "DatetimeIndex: 97848 entries, 2012-01-01 00:00:00 to 2023-02-28 23:00:00\n",
      "Data columns (total 3 columns):\n",
      " #   Column      Non-Null Count  Dtype   \n",
      "---  ------      --------------  -----   \n",
      " 0   id_reg      97848 non-null  category\n",
      " 1   desc_reg    97848 non-null  category\n",
      " 2   load_mwmed  97848 non-null  float64 \n",
      "dtypes: category(2), float64(1)\n",
      "memory usage: 1.7 MB\n"
     ]
    }
   ],
   "source": [
    "load = dw.ons_data(freq='h', ano_inicio=2012, ano_fim=2023, idreg=\"S\")\n",
    "df_load = dw.pipeline(load).loc[INIT:END,:]\n",
    "df_load.info()"
   ]
  },
  {
   "cell_type": "code",
   "execution_count": 25,
   "metadata": {},
   "outputs": [
    {
     "data": {
      "text/html": [
       "<div>\n",
       "<style scoped>\n",
       "    .dataframe tbody tr th:only-of-type {\n",
       "        vertical-align: middle;\n",
       "    }\n",
       "\n",
       "    .dataframe tbody tr th {\n",
       "        vertical-align: top;\n",
       "    }\n",
       "\n",
       "    .dataframe thead th {\n",
       "        text-align: right;\n",
       "    }\n",
       "</style>\n",
       "<table border=\"1\" class=\"dataframe\">\n",
       "  <thead>\n",
       "    <tr style=\"text-align: right;\">\n",
       "      <th></th>\n",
       "      <th>load_mwmed</th>\n",
       "    </tr>\n",
       "  </thead>\n",
       "  <tbody>\n",
       "    <tr>\n",
       "      <th>count</th>\n",
       "      <td>97848.000000</td>\n",
       "    </tr>\n",
       "    <tr>\n",
       "      <th>mean</th>\n",
       "      <td>10969.067011</td>\n",
       "    </tr>\n",
       "    <tr>\n",
       "      <th>std</th>\n",
       "      <td>2235.535021</td>\n",
       "    </tr>\n",
       "    <tr>\n",
       "      <th>min</th>\n",
       "      <td>5191.709000</td>\n",
       "    </tr>\n",
       "    <tr>\n",
       "      <th>25%</th>\n",
       "      <td>9189.557750</td>\n",
       "    </tr>\n",
       "    <tr>\n",
       "      <th>50%</th>\n",
       "      <td>11105.231500</td>\n",
       "    </tr>\n",
       "    <tr>\n",
       "      <th>75%</th>\n",
       "      <td>12588.866764</td>\n",
       "    </tr>\n",
       "    <tr>\n",
       "      <th>max</th>\n",
       "      <td>18924.745000</td>\n",
       "    </tr>\n",
       "  </tbody>\n",
       "</table>\n",
       "</div>"
      ],
      "text/plain": [
       "         load_mwmed\n",
       "count  97848.000000\n",
       "mean   10969.067011\n",
       "std     2235.535021\n",
       "min     5191.709000\n",
       "25%     9189.557750\n",
       "50%    11105.231500\n",
       "75%    12588.866764\n",
       "max    18924.745000"
      ]
     },
     "execution_count": 25,
     "metadata": {},
     "output_type": "execute_result"
    }
   ],
   "source": [
    "df_load.describe()"
   ]
  },
  {
   "cell_type": "code",
   "execution_count": 31,
   "metadata": {},
   "outputs": [],
   "source": [
    "df_load_sf = dw.prepare_statsforecast_df(df_load, \"hourly_load\")"
   ]
  },
  {
   "cell_type": "code",
   "execution_count": 32,
   "metadata": {},
   "outputs": [
    {
     "data": {
      "text/html": [
       "<div>\n",
       "<style scoped>\n",
       "    .dataframe tbody tr th:only-of-type {\n",
       "        vertical-align: middle;\n",
       "    }\n",
       "\n",
       "    .dataframe tbody tr th {\n",
       "        vertical-align: top;\n",
       "    }\n",
       "\n",
       "    .dataframe thead th {\n",
       "        text-align: right;\n",
       "    }\n",
       "</style>\n",
       "<table border=\"1\" class=\"dataframe\">\n",
       "  <thead>\n",
       "    <tr style=\"text-align: right;\">\n",
       "      <th></th>\n",
       "      <th>ds</th>\n",
       "      <th>y</th>\n",
       "      <th>unique_id</th>\n",
       "    </tr>\n",
       "  </thead>\n",
       "  <tbody>\n",
       "    <tr>\n",
       "      <th>0</th>\n",
       "      <td>2012-01-01 00:00:00</td>\n",
       "      <td>7253.940</td>\n",
       "      <td>hourly_load</td>\n",
       "    </tr>\n",
       "    <tr>\n",
       "      <th>1</th>\n",
       "      <td>2012-01-01 01:00:00</td>\n",
       "      <td>6890.371</td>\n",
       "      <td>hourly_load</td>\n",
       "    </tr>\n",
       "    <tr>\n",
       "      <th>2</th>\n",
       "      <td>2012-01-01 02:00:00</td>\n",
       "      <td>6414.702</td>\n",
       "      <td>hourly_load</td>\n",
       "    </tr>\n",
       "    <tr>\n",
       "      <th>3</th>\n",
       "      <td>2012-01-01 03:00:00</td>\n",
       "      <td>6093.842</td>\n",
       "      <td>hourly_load</td>\n",
       "    </tr>\n",
       "    <tr>\n",
       "      <th>4</th>\n",
       "      <td>2012-01-01 04:00:00</td>\n",
       "      <td>5908.571</td>\n",
       "      <td>hourly_load</td>\n",
       "    </tr>\n",
       "  </tbody>\n",
       "</table>\n",
       "</div>"
      ],
      "text/plain": [
       "                   ds         y    unique_id\n",
       "0 2012-01-01 00:00:00  7253.940  hourly_load\n",
       "1 2012-01-01 01:00:00  6890.371  hourly_load\n",
       "2 2012-01-01 02:00:00  6414.702  hourly_load\n",
       "3 2012-01-01 03:00:00  6093.842  hourly_load\n",
       "4 2012-01-01 04:00:00  5908.571  hourly_load"
      ]
     },
     "execution_count": 32,
     "metadata": {},
     "output_type": "execute_result"
    }
   ],
   "source": [
    "df_load_sf.head()"
   ]
  },
  {
   "cell_type": "code",
   "execution_count": 30,
   "metadata": {},
   "outputs": [
    {
     "data": {
      "text/plain": [
       "ds           datetime64[ns]\n",
       "y                   float64\n",
       "unique_id            object\n",
       "dtype: object"
      ]
     },
     "execution_count": 30,
     "metadata": {},
     "output_type": "execute_result"
    }
   ],
   "source": [
    "df_load_sf.dtypes"
   ]
  },
  {
   "cell_type": "code",
   "execution_count": 28,
   "metadata": {},
   "outputs": [],
   "source": [
    "sf = StatsForecast(\n",
    "    models=[AutoARIMA(season_length=24)],\n",
    "    freq='H'\n",
    ")"
   ]
  },
  {
   "cell_type": "code",
   "execution_count": 29,
   "metadata": {},
   "outputs": [
    {
     "ename": "TypeError",
     "evalue": "'<' not supported between instances of 'list' and 'int'",
     "output_type": "error",
     "traceback": [
      "\u001b[1;31m---------------------------------------------------------------------------\u001b[0m",
      "\u001b[1;31mTypeError\u001b[0m                                 Traceback (most recent call last)",
      "Cell \u001b[1;32mIn[29], line 1\u001b[0m\n\u001b[1;32m----> 1\u001b[0m sf\u001b[39m.\u001b[39;49mfit(df_load_sf)\n",
      "File \u001b[1;32mc:\\Users\\user\\anaconda3\\envs\\load_forecasting\\lib\\site-packages\\statsforecast\\core.py:535\u001b[0m, in \u001b[0;36m_StatsForecast.fit\u001b[1;34m(self, df, sort_df)\u001b[0m\n\u001b[0;32m    533\u001b[0m \u001b[39mself\u001b[39m\u001b[39m.\u001b[39m_prepare_fit(df, sort_df)\n\u001b[0;32m    534\u001b[0m \u001b[39mif\u001b[39;00m \u001b[39mself\u001b[39m\u001b[39m.\u001b[39mn_jobs \u001b[39m==\u001b[39m \u001b[39m1\u001b[39m:\n\u001b[1;32m--> 535\u001b[0m     \u001b[39mself\u001b[39m\u001b[39m.\u001b[39mfitted_ \u001b[39m=\u001b[39m \u001b[39mself\u001b[39;49m\u001b[39m.\u001b[39;49mga\u001b[39m.\u001b[39;49mfit(models\u001b[39m=\u001b[39;49m\u001b[39mself\u001b[39;49m\u001b[39m.\u001b[39;49mmodels)\n\u001b[0;32m    536\u001b[0m \u001b[39melse\u001b[39;00m:\n\u001b[0;32m    537\u001b[0m     \u001b[39mself\u001b[39m\u001b[39m.\u001b[39mfitted_ \u001b[39m=\u001b[39m \u001b[39mself\u001b[39m\u001b[39m.\u001b[39m_fit_parallel()\n",
      "File \u001b[1;32mc:\\Users\\user\\anaconda3\\envs\\load_forecasting\\lib\\site-packages\\statsforecast\\core.py:69\u001b[0m, in \u001b[0;36mGroupedArray.fit\u001b[1;34m(self, models)\u001b[0m\n\u001b[0;32m     67\u001b[0m     \u001b[39mfor\u001b[39;00m i_model, model \u001b[39min\u001b[39;00m \u001b[39menumerate\u001b[39m(models):\n\u001b[0;32m     68\u001b[0m         new_model \u001b[39m=\u001b[39m model\u001b[39m.\u001b[39mnew()\n\u001b[1;32m---> 69\u001b[0m         fm[i, i_model] \u001b[39m=\u001b[39m new_model\u001b[39m.\u001b[39;49mfit(y\u001b[39m=\u001b[39;49my, X\u001b[39m=\u001b[39;49mX)\n\u001b[0;32m     70\u001b[0m \u001b[39mreturn\u001b[39;00m fm\n",
      "File \u001b[1;32mc:\\Users\\user\\anaconda3\\envs\\load_forecasting\\lib\\site-packages\\statsforecast\\models.py:196\u001b[0m, in \u001b[0;36mAutoARIMA.fit\u001b[1;34m(self, y, X)\u001b[0m\n\u001b[0;32m    183\u001b[0m \u001b[39m\"\"\"Fit the AutoARIMA model.\u001b[39;00m\n\u001b[0;32m    184\u001b[0m \n\u001b[0;32m    185\u001b[0m \u001b[39mFit an AutoARIMA to a time series (numpy array) `y`\u001b[39;00m\n\u001b[1;32m   (...)\u001b[0m\n\u001b[0;32m    193\u001b[0m \u001b[39m`self`: AutoARIMA fitted model.\u001b[39;00m\n\u001b[0;32m    194\u001b[0m \u001b[39m\"\"\"\u001b[39;00m\n\u001b[0;32m    195\u001b[0m \u001b[39mwith\u001b[39;00m np\u001b[39m.\u001b[39merrstate(invalid\u001b[39m=\u001b[39m\u001b[39m\"\u001b[39m\u001b[39mignore\u001b[39m\u001b[39m\"\u001b[39m):\n\u001b[1;32m--> 196\u001b[0m     \u001b[39mself\u001b[39m\u001b[39m.\u001b[39mmodel_ \u001b[39m=\u001b[39m auto_arima_f(\n\u001b[0;32m    197\u001b[0m         x\u001b[39m=\u001b[39;49my,\n\u001b[0;32m    198\u001b[0m         d\u001b[39m=\u001b[39;49m\u001b[39mself\u001b[39;49m\u001b[39m.\u001b[39;49md,\n\u001b[0;32m    199\u001b[0m         D\u001b[39m=\u001b[39;49m\u001b[39mself\u001b[39;49m\u001b[39m.\u001b[39;49mD,\n\u001b[0;32m    200\u001b[0m         max_p\u001b[39m=\u001b[39;49m\u001b[39mself\u001b[39;49m\u001b[39m.\u001b[39;49mmax_p,\n\u001b[0;32m    201\u001b[0m         max_q\u001b[39m=\u001b[39;49m\u001b[39mself\u001b[39;49m\u001b[39m.\u001b[39;49mmax_q,\n\u001b[0;32m    202\u001b[0m         max_P\u001b[39m=\u001b[39;49m\u001b[39mself\u001b[39;49m\u001b[39m.\u001b[39;49mmax_P,\n\u001b[0;32m    203\u001b[0m         max_Q\u001b[39m=\u001b[39;49m\u001b[39mself\u001b[39;49m\u001b[39m.\u001b[39;49mmax_Q,\n\u001b[0;32m    204\u001b[0m         max_order\u001b[39m=\u001b[39;49m\u001b[39mself\u001b[39;49m\u001b[39m.\u001b[39;49mmax_order,\n\u001b[0;32m    205\u001b[0m         max_d\u001b[39m=\u001b[39;49m\u001b[39mself\u001b[39;49m\u001b[39m.\u001b[39;49mmax_d,\n\u001b[0;32m    206\u001b[0m         max_D\u001b[39m=\u001b[39;49m\u001b[39mself\u001b[39;49m\u001b[39m.\u001b[39;49mmax_D,\n\u001b[0;32m    207\u001b[0m         start_p\u001b[39m=\u001b[39;49m\u001b[39mself\u001b[39;49m\u001b[39m.\u001b[39;49mstart_p,\n\u001b[0;32m    208\u001b[0m         start_q\u001b[39m=\u001b[39;49m\u001b[39mself\u001b[39;49m\u001b[39m.\u001b[39;49mstart_q,\n\u001b[0;32m    209\u001b[0m         start_P\u001b[39m=\u001b[39;49m\u001b[39mself\u001b[39;49m\u001b[39m.\u001b[39;49mstart_P,\n\u001b[0;32m    210\u001b[0m         start_Q\u001b[39m=\u001b[39;49m\u001b[39mself\u001b[39;49m\u001b[39m.\u001b[39;49mstart_Q,\n\u001b[0;32m    211\u001b[0m         stationary\u001b[39m=\u001b[39;49m\u001b[39mself\u001b[39;49m\u001b[39m.\u001b[39;49mstationary,\n\u001b[0;32m    212\u001b[0m         seasonal\u001b[39m=\u001b[39;49m\u001b[39mself\u001b[39;49m\u001b[39m.\u001b[39;49mseasonal,\n\u001b[0;32m    213\u001b[0m         ic\u001b[39m=\u001b[39;49m\u001b[39mself\u001b[39;49m\u001b[39m.\u001b[39;49mic,\n\u001b[0;32m    214\u001b[0m         stepwise\u001b[39m=\u001b[39;49m\u001b[39mself\u001b[39;49m\u001b[39m.\u001b[39;49mstepwise,\n\u001b[0;32m    215\u001b[0m         nmodels\u001b[39m=\u001b[39;49m\u001b[39mself\u001b[39;49m\u001b[39m.\u001b[39;49mnmodels,\n\u001b[0;32m    216\u001b[0m         trace\u001b[39m=\u001b[39;49m\u001b[39mself\u001b[39;49m\u001b[39m.\u001b[39;49mtrace,\n\u001b[0;32m    217\u001b[0m         approximation\u001b[39m=\u001b[39;49m\u001b[39mself\u001b[39;49m\u001b[39m.\u001b[39;49mapproximation,\n\u001b[0;32m    218\u001b[0m         method\u001b[39m=\u001b[39;49m\u001b[39mself\u001b[39;49m\u001b[39m.\u001b[39;49mmethod,\n\u001b[0;32m    219\u001b[0m         truncate\u001b[39m=\u001b[39;49m\u001b[39mself\u001b[39;49m\u001b[39m.\u001b[39;49mtruncate,\n\u001b[0;32m    220\u001b[0m         xreg\u001b[39m=\u001b[39;49mX,\n\u001b[0;32m    221\u001b[0m         test\u001b[39m=\u001b[39;49m\u001b[39mself\u001b[39;49m\u001b[39m.\u001b[39;49mtest,\n\u001b[0;32m    222\u001b[0m         test_kwargs\u001b[39m=\u001b[39;49m\u001b[39mself\u001b[39;49m\u001b[39m.\u001b[39;49mtest_kwargs,\n\u001b[0;32m    223\u001b[0m         seasonal_test\u001b[39m=\u001b[39;49m\u001b[39mself\u001b[39;49m\u001b[39m.\u001b[39;49mseasonal_test,\n\u001b[0;32m    224\u001b[0m         seasonal_test_kwargs\u001b[39m=\u001b[39;49m\u001b[39mself\u001b[39;49m\u001b[39m.\u001b[39;49mseasonal_test_kwargs,\n\u001b[0;32m    225\u001b[0m         allowdrift\u001b[39m=\u001b[39;49m\u001b[39mself\u001b[39;49m\u001b[39m.\u001b[39;49mallowdrift,\n\u001b[0;32m    226\u001b[0m         allowmean\u001b[39m=\u001b[39;49m\u001b[39mself\u001b[39;49m\u001b[39m.\u001b[39;49mallowmean,\n\u001b[0;32m    227\u001b[0m         blambda\u001b[39m=\u001b[39;49m\u001b[39mself\u001b[39;49m\u001b[39m.\u001b[39;49mblambda,\n\u001b[0;32m    228\u001b[0m         biasadj\u001b[39m=\u001b[39;49m\u001b[39mself\u001b[39;49m\u001b[39m.\u001b[39;49mbiasadj,\n\u001b[0;32m    229\u001b[0m         parallel\u001b[39m=\u001b[39;49m\u001b[39mself\u001b[39;49m\u001b[39m.\u001b[39;49mparallel,\n\u001b[0;32m    230\u001b[0m         num_cores\u001b[39m=\u001b[39;49m\u001b[39mself\u001b[39;49m\u001b[39m.\u001b[39;49mnum_cores,\n\u001b[0;32m    231\u001b[0m         period\u001b[39m=\u001b[39;49m\u001b[39mself\u001b[39;49m\u001b[39m.\u001b[39;49mseason_length,\n\u001b[0;32m    232\u001b[0m     )\n\u001b[0;32m    233\u001b[0m \u001b[39mreturn\u001b[39;00m \u001b[39mself\u001b[39m\n",
      "File \u001b[1;32mc:\\Users\\user\\anaconda3\\envs\\load_forecasting\\lib\\site-packages\\statsforecast\\arima.py:1747\u001b[0m, in \u001b[0;36mauto_arima_f\u001b[1;34m(x, d, D, max_p, max_q, max_P, max_Q, max_order, max_d, max_D, start_p, start_q, start_P, start_Q, stationary, seasonal, ic, stepwise, nmodels, trace, approximation, method, truncate, xreg, test, test_kwargs, seasonal_test, seasonal_test_kwargs, allowdrift, allowmean, blambda, biasadj, parallel, num_cores, period)\u001b[0m\n\u001b[0;32m   1745\u001b[0m     \u001b[39mreturn\u001b[39;00m fit\n\u001b[0;32m   1746\u001b[0m m \u001b[39m=\u001b[39m period \u001b[39mif\u001b[39;00m seasonal \u001b[39melse\u001b[39;00m \u001b[39m1\u001b[39m\n\u001b[1;32m-> 1747\u001b[0m \u001b[39mif\u001b[39;00m m \u001b[39m<\u001b[39;49m \u001b[39m1\u001b[39;49m:\n\u001b[0;32m   1748\u001b[0m     m \u001b[39m=\u001b[39m \u001b[39m1\u001b[39m\n\u001b[0;32m   1749\u001b[0m \u001b[39melse\u001b[39;00m:\n",
      "\u001b[1;31mTypeError\u001b[0m: '<' not supported between instances of 'list' and 'int'"
     ]
    }
   ],
   "source": [
    "sf.fit(df_load_sf)"
   ]
  }
 ],
 "metadata": {
  "kernelspec": {
   "display_name": "load_forecasting",
   "language": "python",
   "name": "python3"
  },
  "language_info": {
   "codemirror_mode": {
    "name": "ipython",
    "version": 3
   },
   "file_extension": ".py",
   "mimetype": "text/x-python",
   "name": "python",
   "nbconvert_exporter": "python",
   "pygments_lexer": "ipython3",
   "version": "3.8.16"
  },
  "orig_nbformat": 4
 },
 "nbformat": 4,
 "nbformat_minor": 2
}
