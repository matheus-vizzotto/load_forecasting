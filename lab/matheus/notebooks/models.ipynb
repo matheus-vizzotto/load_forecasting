{
 "cells": [
  {
   "cell_type": "code",
   "execution_count": 2,
   "metadata": {},
   "outputs": [],
   "source": [
    "import funcs.data_wrangling as dw\n",
    "import pandas as pd\n",
    "import numpy as np\n",
    "#import seaborn as sns\n",
    "#import matplotlib.pyplot as plt\n",
    "#import plotly.express as px\n",
    "#from matplotlib import rcParams\n",
    "#from statsmodels.tsa.seasonal import STL\n",
    "#from statsmodels.graphics.tsaplots import plot_acf, plot_pacf\n",
    "from statsforecast import StatsForecast\n",
    "from statsforecast.models import (\n",
    "    AutoARIMA,\n",
    "    HoltWinters,\n",
    "    CrostonClassic as Croston, \n",
    "    HistoricAverage,\n",
    "    DynamicOptimizedTheta as DOT,\n",
    "    SeasonalNaive\n",
    ")\n",
    "#from datasetsforecast.losses import mse, mae, rmse\n",
    "\n",
    "#rcParams['figure.figsize'] = 15, 5\n",
    "\n",
    "import warnings\n",
    "warnings.filterwarnings('ignore')"
   ]
  },
  {
   "cell_type": "code",
   "execution_count": 3,
   "metadata": {},
   "outputs": [],
   "source": [
    "data = dw.ons_data(freq='h', ano_inicio=2000, ano_fim=2023, idreg=\"S\")\n",
    "df = dw.pipeline(data, update=False)"
   ]
  },
  {
   "cell_type": "code",
   "execution_count": 4,
   "metadata": {},
   "outputs": [
    {
     "data": {
      "text/html": [
       "<div>\n",
       "<style scoped>\n",
       "    .dataframe tbody tr th:only-of-type {\n",
       "        vertical-align: middle;\n",
       "    }\n",
       "\n",
       "    .dataframe tbody tr th {\n",
       "        vertical-align: top;\n",
       "    }\n",
       "\n",
       "    .dataframe thead th {\n",
       "        text-align: right;\n",
       "    }\n",
       "</style>\n",
       "<table border=\"1\" class=\"dataframe\">\n",
       "  <thead>\n",
       "    <tr style=\"text-align: right;\">\n",
       "      <th></th>\n",
       "      <th>id_reg</th>\n",
       "      <th>desc_reg</th>\n",
       "      <th>load_mwmed</th>\n",
       "    </tr>\n",
       "    <tr>\n",
       "      <th>date</th>\n",
       "      <th></th>\n",
       "      <th></th>\n",
       "      <th></th>\n",
       "    </tr>\n",
       "  </thead>\n",
       "  <tbody>\n",
       "    <tr>\n",
       "      <th>2000-01-01 00:00:00</th>\n",
       "      <td>S</td>\n",
       "      <td>SUL</td>\n",
       "      <td>5777.0</td>\n",
       "    </tr>\n",
       "    <tr>\n",
       "      <th>2000-01-01 01:00:00</th>\n",
       "      <td>S</td>\n",
       "      <td>SUL</td>\n",
       "      <td>5580.7</td>\n",
       "    </tr>\n",
       "    <tr>\n",
       "      <th>2000-01-01 02:00:00</th>\n",
       "      <td>S</td>\n",
       "      <td>SUL</td>\n",
       "      <td>5098.7</td>\n",
       "    </tr>\n",
       "    <tr>\n",
       "      <th>2000-01-01 03:00:00</th>\n",
       "      <td>S</td>\n",
       "      <td>SUL</td>\n",
       "      <td>4753.7</td>\n",
       "    </tr>\n",
       "    <tr>\n",
       "      <th>2000-01-01 04:00:00</th>\n",
       "      <td>S</td>\n",
       "      <td>SUL</td>\n",
       "      <td>4584.1</td>\n",
       "    </tr>\n",
       "  </tbody>\n",
       "</table>\n",
       "</div>"
      ],
      "text/plain": [
       "                    id_reg desc_reg  load_mwmed\n",
       "date                                           \n",
       "2000-01-01 00:00:00      S      SUL      5777.0\n",
       "2000-01-01 01:00:00      S      SUL      5580.7\n",
       "2000-01-01 02:00:00      S      SUL      5098.7\n",
       "2000-01-01 03:00:00      S      SUL      4753.7\n",
       "2000-01-01 04:00:00      S      SUL      4584.1"
      ]
     },
     "execution_count": 4,
     "metadata": {},
     "output_type": "execute_result"
    }
   ],
   "source": [
    "df.head()"
   ]
  },
  {
   "cell_type": "code",
   "execution_count": 12,
   "metadata": {},
   "outputs": [
    {
     "data": {
      "text/html": [
       "<div>\n",
       "<style scoped>\n",
       "    .dataframe tbody tr th:only-of-type {\n",
       "        vertical-align: middle;\n",
       "    }\n",
       "\n",
       "    .dataframe tbody tr th {\n",
       "        vertical-align: top;\n",
       "    }\n",
       "\n",
       "    .dataframe thead th {\n",
       "        text-align: right;\n",
       "    }\n",
       "</style>\n",
       "<table border=\"1\" class=\"dataframe\">\n",
       "  <thead>\n",
       "    <tr style=\"text-align: right;\">\n",
       "      <th></th>\n",
       "      <th>id_reg</th>\n",
       "      <th>desc_reg</th>\n",
       "      <th>load_mwmed</th>\n",
       "    </tr>\n",
       "    <tr>\n",
       "      <th>date</th>\n",
       "      <th></th>\n",
       "      <th></th>\n",
       "      <th></th>\n",
       "    </tr>\n",
       "  </thead>\n",
       "  <tbody>\n",
       "    <tr>\n",
       "      <th>2022-03-07 00:00:00</th>\n",
       "      <td>S</td>\n",
       "      <td>SUL</td>\n",
       "      <td>12638.106</td>\n",
       "    </tr>\n",
       "    <tr>\n",
       "      <th>2022-03-07 01:00:00</th>\n",
       "      <td>S</td>\n",
       "      <td>SUL</td>\n",
       "      <td>12158.367</td>\n",
       "    </tr>\n",
       "    <tr>\n",
       "      <th>2022-03-07 02:00:00</th>\n",
       "      <td>S</td>\n",
       "      <td>SUL</td>\n",
       "      <td>11829.226</td>\n",
       "    </tr>\n",
       "    <tr>\n",
       "      <th>2022-03-07 03:00:00</th>\n",
       "      <td>S</td>\n",
       "      <td>SUL</td>\n",
       "      <td>11627.201</td>\n",
       "    </tr>\n",
       "    <tr>\n",
       "      <th>2022-03-07 04:00:00</th>\n",
       "      <td>S</td>\n",
       "      <td>SUL</td>\n",
       "      <td>11574.747</td>\n",
       "    </tr>\n",
       "  </tbody>\n",
       "</table>\n",
       "</div>"
      ],
      "text/plain": [
       "                    id_reg desc_reg  load_mwmed\n",
       "date                                           \n",
       "2022-03-07 00:00:00      S      SUL   12638.106\n",
       "2022-03-07 01:00:00      S      SUL   12158.367\n",
       "2022-03-07 02:00:00      S      SUL   11829.226\n",
       "2022-03-07 03:00:00      S      SUL   11627.201\n",
       "2022-03-07 04:00:00      S      SUL   11574.747"
      ]
     },
     "execution_count": 12,
     "metadata": {},
     "output_type": "execute_result"
    }
   ],
   "source": [
    "# Último ano\n",
    "df_ly = df.iloc[-(24*365):,:]\n",
    "df_ly.head()"
   ]
  },
  {
   "cell_type": "code",
   "execution_count": 13,
   "metadata": {},
   "outputs": [],
   "source": [
    "df2 = dw.prepare_statsforecast_df(df_ly, \"hourly_load\")"
   ]
  },
  {
   "cell_type": "code",
   "execution_count": 14,
   "metadata": {},
   "outputs": [
    {
     "data": {
      "text/plain": [
       "(8760, 3)"
      ]
     },
     "execution_count": 14,
     "metadata": {},
     "output_type": "execute_result"
    }
   ],
   "source": [
    "df2.shape"
   ]
  },
  {
   "attachments": {},
   "cell_type": "markdown",
   "metadata": {},
   "source": [
    "# AutoArima"
   ]
  },
  {
   "cell_type": "code",
   "execution_count": 15,
   "metadata": {},
   "outputs": [],
   "source": [
    "sf = StatsForecast(\n",
    "    models= [AutoARIMA(season_length=24)],\n",
    "    freq='H'\n",
    ")"
   ]
  },
  {
   "cell_type": "code",
   "execution_count": 16,
   "metadata": {},
   "outputs": [
    {
     "data": {
      "text/plain": [
       "StatsForecast(models=[AutoARIMA])"
      ]
     },
     "execution_count": 16,
     "metadata": {},
     "output_type": "execute_result"
    }
   ],
   "source": [
    "sf.fit(df2)"
   ]
  },
  {
   "cell_type": "markdown",
   "metadata": {},
   "source": [
    "# Multiple models"
   ]
  },
  {
   "cell_type": "code",
   "execution_count": 17,
   "metadata": {},
   "outputs": [],
   "source": [
    "models = [\n",
    "    AutoARIMA(season_length=24),\n",
    "    HoltWinters(),\n",
    "    Croston(),\n",
    "    SeasonalNaive(season_length=24),\n",
    "    HistoricAverage(),\n",
    "    DOT(season_length=24)\n",
    "]"
   ]
  },
  {
   "cell_type": "code",
   "execution_count": 18,
   "metadata": {},
   "outputs": [],
   "source": [
    "sf = StatsForecast(\n",
    "    df=df2, \n",
    "    models=models,\n",
    "    freq='H', \n",
    "    n_jobs=-1,\n",
    "    fallback_model = SeasonalNaive(season_length=7)\n",
    ")"
   ]
  },
  {
   "cell_type": "code",
   "execution_count": 19,
   "metadata": {},
   "outputs": [
    {
     "data": {
      "text/html": [
       "<div>\n",
       "<style scoped>\n",
       "    .dataframe tbody tr th:only-of-type {\n",
       "        vertical-align: middle;\n",
       "    }\n",
       "\n",
       "    .dataframe tbody tr th {\n",
       "        vertical-align: top;\n",
       "    }\n",
       "\n",
       "    .dataframe thead th {\n",
       "        text-align: right;\n",
       "    }\n",
       "</style>\n",
       "<table border=\"1\" class=\"dataframe\">\n",
       "  <thead>\n",
       "    <tr style=\"text-align: right;\">\n",
       "      <th></th>\n",
       "      <th>ds</th>\n",
       "      <th>AutoARIMA</th>\n",
       "      <th>AutoARIMA-lo-90</th>\n",
       "      <th>AutoARIMA-hi-90</th>\n",
       "      <th>HoltWinters</th>\n",
       "      <th>HoltWinters-lo-90</th>\n",
       "      <th>HoltWinters-hi-90</th>\n",
       "      <th>CrostonClassic</th>\n",
       "      <th>SeasonalNaive</th>\n",
       "      <th>SeasonalNaive-lo-90</th>\n",
       "      <th>SeasonalNaive-hi-90</th>\n",
       "      <th>HistoricAverage</th>\n",
       "      <th>HistoricAverage-lo-90</th>\n",
       "      <th>HistoricAverage-hi-90</th>\n",
       "      <th>DynamicOptimizedTheta</th>\n",
       "      <th>DynamicOptimizedTheta-lo-90</th>\n",
       "      <th>DynamicOptimizedTheta-hi-90</th>\n",
       "    </tr>\n",
       "    <tr>\n",
       "      <th>unique_id</th>\n",
       "      <th></th>\n",
       "      <th></th>\n",
       "      <th></th>\n",
       "      <th></th>\n",
       "      <th></th>\n",
       "      <th></th>\n",
       "      <th></th>\n",
       "      <th></th>\n",
       "      <th></th>\n",
       "      <th></th>\n",
       "      <th></th>\n",
       "      <th></th>\n",
       "      <th></th>\n",
       "      <th></th>\n",
       "      <th></th>\n",
       "      <th></th>\n",
       "      <th></th>\n",
       "    </tr>\n",
       "  </thead>\n",
       "  <tbody>\n",
       "    <tr>\n",
       "      <th>hourly_load</th>\n",
       "      <td>2023-03-07 00:00:00</td>\n",
       "      <td>12242.286133</td>\n",
       "      <td>11727.636719</td>\n",
       "      <td>12756.936523</td>\n",
       "      <td>14797.978516</td>\n",
       "      <td>3227.750488</td>\n",
       "      <td>26368.207031</td>\n",
       "      <td>13723.993164</td>\n",
       "      <td>11205.140625</td>\n",
       "      <td>7196.831055</td>\n",
       "      <td>15213.450195</td>\n",
       "      <td>11627.321289</td>\n",
       "      <td>7858.384766</td>\n",
       "      <td>15396.257812</td>\n",
       "      <td>12119.828125</td>\n",
       "      <td>11590.079102</td>\n",
       "      <td>12788.010742</td>\n",
       "    </tr>\n",
       "    <tr>\n",
       "      <th>hourly_load</th>\n",
       "      <td>2023-03-07 01:00:00</td>\n",
       "      <td>11503.185547</td>\n",
       "      <td>10626.280273</td>\n",
       "      <td>12380.089844</td>\n",
       "      <td>14434.114258</td>\n",
       "      <td>2863.886230</td>\n",
       "      <td>26004.341797</td>\n",
       "      <td>13723.993164</td>\n",
       "      <td>10703.818359</td>\n",
       "      <td>6695.508789</td>\n",
       "      <td>14712.127930</td>\n",
       "      <td>11627.321289</td>\n",
       "      <td>7858.384766</td>\n",
       "      <td>15396.257812</td>\n",
       "      <td>11409.166992</td>\n",
       "      <td>10655.356445</td>\n",
       "      <td>12196.412109</td>\n",
       "    </tr>\n",
       "    <tr>\n",
       "      <th>hourly_load</th>\n",
       "      <td>2023-03-07 02:00:00</td>\n",
       "      <td>11013.065430</td>\n",
       "      <td>9881.473633</td>\n",
       "      <td>12144.656250</td>\n",
       "      <td>15509.942383</td>\n",
       "      <td>3939.714355</td>\n",
       "      <td>27080.169922</td>\n",
       "      <td>13723.993164</td>\n",
       "      <td>10415.939453</td>\n",
       "      <td>6407.629883</td>\n",
       "      <td>14424.249023</td>\n",
       "      <td>11627.321289</td>\n",
       "      <td>7858.384766</td>\n",
       "      <td>15396.257812</td>\n",
       "      <td>10958.120117</td>\n",
       "      <td>9908.471680</td>\n",
       "      <td>11853.031250</td>\n",
       "    </tr>\n",
       "    <tr>\n",
       "      <th>hourly_load</th>\n",
       "      <td>2023-03-07 03:00:00</td>\n",
       "      <td>10766.224609</td>\n",
       "      <td>9474.901367</td>\n",
       "      <td>12057.546875</td>\n",
       "      <td>15285.526367</td>\n",
       "      <td>3715.298340</td>\n",
       "      <td>26855.753906</td>\n",
       "      <td>13723.993164</td>\n",
       "      <td>10295.325195</td>\n",
       "      <td>6287.015625</td>\n",
       "      <td>14303.634766</td>\n",
       "      <td>11627.321289</td>\n",
       "      <td>7858.384766</td>\n",
       "      <td>15396.257812</td>\n",
       "      <td>10772.516602</td>\n",
       "      <td>9728.506836</td>\n",
       "      <td>11670.973633</td>\n",
       "    </tr>\n",
       "    <tr>\n",
       "      <th>hourly_load</th>\n",
       "      <td>2023-03-07 04:00:00</td>\n",
       "      <td>10701.494141</td>\n",
       "      <td>9319.984375</td>\n",
       "      <td>12083.002930</td>\n",
       "      <td>14938.970703</td>\n",
       "      <td>3368.742676</td>\n",
       "      <td>26509.199219</td>\n",
       "      <td>13723.993164</td>\n",
       "      <td>10342.305664</td>\n",
       "      <td>6333.996094</td>\n",
       "      <td>14350.615234</td>\n",
       "      <td>11627.321289</td>\n",
       "      <td>7858.384766</td>\n",
       "      <td>15396.257812</td>\n",
       "      <td>10793.220703</td>\n",
       "      <td>9716.607422</td>\n",
       "      <td>11882.041016</td>\n",
       "    </tr>\n",
       "  </tbody>\n",
       "</table>\n",
       "</div>"
      ],
      "text/plain": [
       "                             ds     AutoARIMA  AutoARIMA-lo-90  \\\n",
       "unique_id                                                        \n",
       "hourly_load 2023-03-07 00:00:00  12242.286133     11727.636719   \n",
       "hourly_load 2023-03-07 01:00:00  11503.185547     10626.280273   \n",
       "hourly_load 2023-03-07 02:00:00  11013.065430      9881.473633   \n",
       "hourly_load 2023-03-07 03:00:00  10766.224609      9474.901367   \n",
       "hourly_load 2023-03-07 04:00:00  10701.494141      9319.984375   \n",
       "\n",
       "             AutoARIMA-hi-90   HoltWinters  HoltWinters-lo-90  \\\n",
       "unique_id                                                       \n",
       "hourly_load     12756.936523  14797.978516        3227.750488   \n",
       "hourly_load     12380.089844  14434.114258        2863.886230   \n",
       "hourly_load     12144.656250  15509.942383        3939.714355   \n",
       "hourly_load     12057.546875  15285.526367        3715.298340   \n",
       "hourly_load     12083.002930  14938.970703        3368.742676   \n",
       "\n",
       "             HoltWinters-hi-90  CrostonClassic  SeasonalNaive  \\\n",
       "unique_id                                                       \n",
       "hourly_load       26368.207031    13723.993164   11205.140625   \n",
       "hourly_load       26004.341797    13723.993164   10703.818359   \n",
       "hourly_load       27080.169922    13723.993164   10415.939453   \n",
       "hourly_load       26855.753906    13723.993164   10295.325195   \n",
       "hourly_load       26509.199219    13723.993164   10342.305664   \n",
       "\n",
       "             SeasonalNaive-lo-90  SeasonalNaive-hi-90  HistoricAverage  \\\n",
       "unique_id                                                                \n",
       "hourly_load          7196.831055         15213.450195     11627.321289   \n",
       "hourly_load          6695.508789         14712.127930     11627.321289   \n",
       "hourly_load          6407.629883         14424.249023     11627.321289   \n",
       "hourly_load          6287.015625         14303.634766     11627.321289   \n",
       "hourly_load          6333.996094         14350.615234     11627.321289   \n",
       "\n",
       "             HistoricAverage-lo-90  HistoricAverage-hi-90  \\\n",
       "unique_id                                                   \n",
       "hourly_load            7858.384766           15396.257812   \n",
       "hourly_load            7858.384766           15396.257812   \n",
       "hourly_load            7858.384766           15396.257812   \n",
       "hourly_load            7858.384766           15396.257812   \n",
       "hourly_load            7858.384766           15396.257812   \n",
       "\n",
       "             DynamicOptimizedTheta  DynamicOptimizedTheta-lo-90  \\\n",
       "unique_id                                                         \n",
       "hourly_load           12119.828125                 11590.079102   \n",
       "hourly_load           11409.166992                 10655.356445   \n",
       "hourly_load           10958.120117                  9908.471680   \n",
       "hourly_load           10772.516602                  9728.506836   \n",
       "hourly_load           10793.220703                  9716.607422   \n",
       "\n",
       "             DynamicOptimizedTheta-hi-90  \n",
       "unique_id                                 \n",
       "hourly_load                 12788.010742  \n",
       "hourly_load                 12196.412109  \n",
       "hourly_load                 11853.031250  \n",
       "hourly_load                 11670.973633  \n",
       "hourly_load                 11882.041016  "
      ]
     },
     "execution_count": 19,
     "metadata": {},
     "output_type": "execute_result"
    }
   ],
   "source": [
    "forecasts_df = sf.forecast(h=48, level=[90])\n",
    "\n",
    "forecasts_df.head()"
   ]
  },
  {
   "cell_type": "code",
   "execution_count": 20,
   "metadata": {},
   "outputs": [
    {
     "ename": "ValueError",
     "evalue": "Mime type rendering requires nbformat>=4.2.0 but it is not installed",
     "output_type": "error",
     "traceback": [
      "\u001b[1;31m---------------------------------------------------------------------------\u001b[0m",
      "\u001b[1;31mValueError\u001b[0m                                Traceback (most recent call last)",
      "Cell \u001b[1;32mIn[20], line 1\u001b[0m\n\u001b[1;32m----> 1\u001b[0m sf\u001b[39m.\u001b[39;49mplot(df2,forecasts_df)\n",
      "File \u001b[1;32mc:\\Users\\user\\anaconda3\\envs\\load_forecasting\\lib\\site-packages\\statsforecast\\core.py:1199\u001b[0m, in \u001b[0;36m_StatsForecast.plot\u001b[1;34m(df, forecasts_df, unique_ids, plot_random, models, level, max_insample_length, plot_anomalies, engine)\u001b[0m\n\u001b[0;32m   1197\u001b[0m     fig\u001b[39m.\u001b[39mupdate_annotations(font_size\u001b[39m=\u001b[39m\u001b[39m10\u001b[39m)\n\u001b[0;32m   1198\u001b[0m     fig\u001b[39m.\u001b[39mupdate_layout(autosize\u001b[39m=\u001b[39m\u001b[39mTrue\u001b[39;00m, height\u001b[39m=\u001b[39m\u001b[39m150\u001b[39m \u001b[39m*\u001b[39m n_rows)\n\u001b[1;32m-> 1199\u001b[0m     fig\u001b[39m.\u001b[39;49mshow()\n\u001b[0;32m   1201\u001b[0m \u001b[39melif\u001b[39;00m engine \u001b[39m==\u001b[39m \u001b[39m\"\u001b[39m\u001b[39mmatplotlib\u001b[39m\u001b[39m\"\u001b[39m:\n\u001b[0;32m   1202\u001b[0m     \u001b[39mif\u001b[39;00m \u001b[39mlen\u001b[39m(unique_ids) \u001b[39m==\u001b[39m \u001b[39m1\u001b[39m:\n",
      "File \u001b[1;32mc:\\Users\\user\\anaconda3\\envs\\load_forecasting\\lib\\site-packages\\plotly\\basedatatypes.py:3390\u001b[0m, in \u001b[0;36mBaseFigure.show\u001b[1;34m(self, *args, **kwargs)\u001b[0m\n\u001b[0;32m   3357\u001b[0m \u001b[39m\"\"\"\u001b[39;00m\n\u001b[0;32m   3358\u001b[0m \u001b[39mShow a figure using either the default renderer(s) or the renderer(s)\u001b[39;00m\n\u001b[0;32m   3359\u001b[0m \u001b[39mspecified by the renderer argument\u001b[39;00m\n\u001b[1;32m   (...)\u001b[0m\n\u001b[0;32m   3386\u001b[0m \u001b[39mNone\u001b[39;00m\n\u001b[0;32m   3387\u001b[0m \u001b[39m\"\"\"\u001b[39;00m\n\u001b[0;32m   3388\u001b[0m \u001b[39mimport\u001b[39;00m \u001b[39mplotly\u001b[39;00m\u001b[39m.\u001b[39;00m\u001b[39mio\u001b[39;00m \u001b[39mas\u001b[39;00m \u001b[39mpio\u001b[39;00m\n\u001b[1;32m-> 3390\u001b[0m \u001b[39mreturn\u001b[39;00m pio\u001b[39m.\u001b[39;49mshow(\u001b[39mself\u001b[39;49m, \u001b[39m*\u001b[39;49margs, \u001b[39m*\u001b[39;49m\u001b[39m*\u001b[39;49mkwargs)\n",
      "File \u001b[1;32mc:\\Users\\user\\anaconda3\\envs\\load_forecasting\\lib\\site-packages\\plotly\\io\\_renderers.py:396\u001b[0m, in \u001b[0;36mshow\u001b[1;34m(fig, renderer, validate, **kwargs)\u001b[0m\n\u001b[0;32m    391\u001b[0m         \u001b[39mraise\u001b[39;00m \u001b[39mValueError\u001b[39;00m(\n\u001b[0;32m    392\u001b[0m             \u001b[39m\"\u001b[39m\u001b[39mMime type rendering requires ipython but it is not installed\u001b[39m\u001b[39m\"\u001b[39m\n\u001b[0;32m    393\u001b[0m         )\n\u001b[0;32m    395\u001b[0m     \u001b[39mif\u001b[39;00m \u001b[39mnot\u001b[39;00m nbformat \u001b[39mor\u001b[39;00m Version(nbformat\u001b[39m.\u001b[39m__version__) \u001b[39m<\u001b[39m Version(\u001b[39m\"\u001b[39m\u001b[39m4.2.0\u001b[39m\u001b[39m\"\u001b[39m):\n\u001b[1;32m--> 396\u001b[0m         \u001b[39mraise\u001b[39;00m \u001b[39mValueError\u001b[39;00m(\n\u001b[0;32m    397\u001b[0m             \u001b[39m\"\u001b[39m\u001b[39mMime type rendering requires nbformat>=4.2.0 but it is not installed\u001b[39m\u001b[39m\"\u001b[39m\n\u001b[0;32m    398\u001b[0m         )\n\u001b[0;32m    400\u001b[0m     ipython_display\u001b[39m.\u001b[39mdisplay(bundle, raw\u001b[39m=\u001b[39m\u001b[39mTrue\u001b[39;00m)\n\u001b[0;32m    402\u001b[0m \u001b[39m# external renderers\u001b[39;00m\n",
      "\u001b[1;31mValueError\u001b[0m: Mime type rendering requires nbformat>=4.2.0 but it is not installed"
     ]
    }
   ],
   "source": [
    "sf.plot(df2,forecasts_df)"
   ]
  },
  {
   "cell_type": "code",
   "execution_count": 23,
   "metadata": {},
   "outputs": [
    {
     "data": {
      "text/plain": [
       "StatsForecast(models=[AutoARIMA,HoltWinters,CrostonClassic,SeasonalNaive,HistoricAverage,DynamicOptimizedTheta])"
      ]
     },
     "execution_count": 23,
     "metadata": {},
     "output_type": "execute_result"
    }
   ],
   "source": [
    "sf.sav"
   ]
  },
  {
   "cell_type": "code",
   "execution_count": 21,
   "metadata": {},
   "outputs": [
    {
     "ename": "KeyboardInterrupt",
     "evalue": "",
     "output_type": "error",
     "traceback": [
      "\u001b[1;31m---------------------------------------------------------------------------\u001b[0m",
      "\u001b[1;31mKeyboardInterrupt\u001b[0m                         Traceback (most recent call last)",
      "Cell \u001b[1;32mIn[21], line 1\u001b[0m\n\u001b[1;32m----> 1\u001b[0m crossvaldation_df \u001b[39m=\u001b[39m sf\u001b[39m.\u001b[39;49mcross_validation(\n\u001b[0;32m      2\u001b[0m     df\u001b[39m=\u001b[39;49mdf2,\n\u001b[0;32m      3\u001b[0m     h\u001b[39m=\u001b[39;49m\u001b[39m24\u001b[39;49m,\n\u001b[0;32m      4\u001b[0m     step_size\u001b[39m=\u001b[39;49m\u001b[39m24\u001b[39;49m,\n\u001b[0;32m      5\u001b[0m     n_windows\u001b[39m=\u001b[39;49m\u001b[39m2\u001b[39;49m\n\u001b[0;32m      6\u001b[0m   )\n\u001b[0;32m      8\u001b[0m crossvaldation_df\u001b[39m.\u001b[39mhead()\n",
      "File \u001b[1;32mc:\\Users\\user\\anaconda3\\envs\\load_forecasting\\lib\\site-packages\\statsforecast\\core.py:761\u001b[0m, in \u001b[0;36m_StatsForecast.cross_validation\u001b[1;34m(self, h, df, n_windows, step_size, test_size, input_size, level, fitted, sort_df)\u001b[0m\n\u001b[0;32m    759\u001b[0m _, level \u001b[39m=\u001b[39m \u001b[39mself\u001b[39m\u001b[39m.\u001b[39m_parse_X_level(h\u001b[39m=\u001b[39mh, X\u001b[39m=\u001b[39m\u001b[39mNone\u001b[39;00m, level\u001b[39m=\u001b[39mlevel)\n\u001b[0;32m    760\u001b[0m \u001b[39mif\u001b[39;00m \u001b[39mself\u001b[39m\u001b[39m.\u001b[39mn_jobs \u001b[39m==\u001b[39m \u001b[39m1\u001b[39m:\n\u001b[1;32m--> 761\u001b[0m     res_fcsts \u001b[39m=\u001b[39m \u001b[39mself\u001b[39;49m\u001b[39m.\u001b[39;49mga\u001b[39m.\u001b[39;49mcross_validation(\n\u001b[0;32m    762\u001b[0m         models\u001b[39m=\u001b[39;49m\u001b[39mself\u001b[39;49m\u001b[39m.\u001b[39;49mmodels,\n\u001b[0;32m    763\u001b[0m         h\u001b[39m=\u001b[39;49mh,\n\u001b[0;32m    764\u001b[0m         test_size\u001b[39m=\u001b[39;49mtest_size,\n\u001b[0;32m    765\u001b[0m         fallback_model\u001b[39m=\u001b[39;49m\u001b[39mself\u001b[39;49m\u001b[39m.\u001b[39;49mfallback_model,\n\u001b[0;32m    766\u001b[0m         step_size\u001b[39m=\u001b[39;49mstep_size,\n\u001b[0;32m    767\u001b[0m         input_size\u001b[39m=\u001b[39;49minput_size,\n\u001b[0;32m    768\u001b[0m         fitted\u001b[39m=\u001b[39;49mfitted,\n\u001b[0;32m    769\u001b[0m         level\u001b[39m=\u001b[39;49mlevel,\n\u001b[0;32m    770\u001b[0m         verbose\u001b[39m=\u001b[39;49m\u001b[39mself\u001b[39;49m\u001b[39m.\u001b[39;49mverbose,\n\u001b[0;32m    771\u001b[0m     )\n\u001b[0;32m    772\u001b[0m \u001b[39melse\u001b[39;00m:\n\u001b[0;32m    773\u001b[0m     res_fcsts \u001b[39m=\u001b[39m \u001b[39mself\u001b[39m\u001b[39m.\u001b[39m_cross_validation_parallel(\n\u001b[0;32m    774\u001b[0m         h\u001b[39m=\u001b[39mh,\n\u001b[0;32m    775\u001b[0m         test_size\u001b[39m=\u001b[39mtest_size,\n\u001b[1;32m   (...)\u001b[0m\n\u001b[0;32m    779\u001b[0m         level\u001b[39m=\u001b[39mlevel,\n\u001b[0;32m    780\u001b[0m     )\n",
      "File \u001b[1;32mc:\\Users\\user\\anaconda3\\envs\\load_forecasting\\lib\\site-packages\\statsforecast\\core.py:307\u001b[0m, in \u001b[0;36mGroupedArray.cross_validation\u001b[1;34m(self, models, h, test_size, fallback_model, step_size, input_size, fitted, level, verbose)\u001b[0m\n\u001b[0;32m    305\u001b[0m     kwargs[\u001b[39m\"\u001b[39m\u001b[39mlevel\u001b[39m\u001b[39m\"\u001b[39m] \u001b[39m=\u001b[39m level\n\u001b[0;32m    306\u001b[0m \u001b[39mtry\u001b[39;00m:\n\u001b[1;32m--> 307\u001b[0m     res_i \u001b[39m=\u001b[39m model\u001b[39m.\u001b[39;49mforecast(\n\u001b[0;32m    308\u001b[0m         h\u001b[39m=\u001b[39;49mh,\n\u001b[0;32m    309\u001b[0m         y\u001b[39m=\u001b[39;49my_train,\n\u001b[0;32m    310\u001b[0m         X\u001b[39m=\u001b[39;49mX_train,\n\u001b[0;32m    311\u001b[0m         X_future\u001b[39m=\u001b[39;49mX_future,\n\u001b[0;32m    312\u001b[0m         fitted\u001b[39m=\u001b[39;49mfitted,\n\u001b[0;32m    313\u001b[0m         \u001b[39m*\u001b[39;49m\u001b[39m*\u001b[39;49mkwargs,\n\u001b[0;32m    314\u001b[0m     )\n\u001b[0;32m    315\u001b[0m \u001b[39mexcept\u001b[39;00m \u001b[39mException\u001b[39;00m \u001b[39mas\u001b[39;00m error:\n\u001b[0;32m    316\u001b[0m     \u001b[39mif\u001b[39;00m fallback_model \u001b[39mis\u001b[39;00m \u001b[39mnot\u001b[39;00m \u001b[39mNone\u001b[39;00m:\n",
      "File \u001b[1;32mc:\\Users\\user\\anaconda3\\envs\\load_forecasting\\lib\\site-packages\\statsforecast\\models.py:308\u001b[0m, in \u001b[0;36mAutoARIMA.forecast\u001b[1;34m(self, y, h, X, X_future, level, fitted)\u001b[0m\n\u001b[0;32m    289\u001b[0m \u001b[39m\"\"\"Memory Efficient AutoARIMA predictions.\u001b[39;00m\n\u001b[0;32m    290\u001b[0m \n\u001b[0;32m    291\u001b[0m \u001b[39mThis method avoids memory burden due from object storage.\u001b[39;00m\n\u001b[1;32m   (...)\u001b[0m\n\u001b[0;32m    305\u001b[0m \u001b[39m    'level_*' for probabilistic predictions.<br>\u001b[39;00m\n\u001b[0;32m    306\u001b[0m \u001b[39m\"\"\"\u001b[39;00m\n\u001b[0;32m    307\u001b[0m \u001b[39mwith\u001b[39;00m np\u001b[39m.\u001b[39merrstate(invalid\u001b[39m=\u001b[39m\u001b[39m\"\u001b[39m\u001b[39mignore\u001b[39m\u001b[39m\"\u001b[39m):\n\u001b[1;32m--> 308\u001b[0m     mod \u001b[39m=\u001b[39m auto_arima_f(\n\u001b[0;32m    309\u001b[0m         x\u001b[39m=\u001b[39;49my,\n\u001b[0;32m    310\u001b[0m         d\u001b[39m=\u001b[39;49m\u001b[39mself\u001b[39;49m\u001b[39m.\u001b[39;49md,\n\u001b[0;32m    311\u001b[0m         D\u001b[39m=\u001b[39;49m\u001b[39mself\u001b[39;49m\u001b[39m.\u001b[39;49mD,\n\u001b[0;32m    312\u001b[0m         max_p\u001b[39m=\u001b[39;49m\u001b[39mself\u001b[39;49m\u001b[39m.\u001b[39;49mmax_p,\n\u001b[0;32m    313\u001b[0m         max_q\u001b[39m=\u001b[39;49m\u001b[39mself\u001b[39;49m\u001b[39m.\u001b[39;49mmax_q,\n\u001b[0;32m    314\u001b[0m         max_P\u001b[39m=\u001b[39;49m\u001b[39mself\u001b[39;49m\u001b[39m.\u001b[39;49mmax_P,\n\u001b[0;32m    315\u001b[0m         max_Q\u001b[39m=\u001b[39;49m\u001b[39mself\u001b[39;49m\u001b[39m.\u001b[39;49mmax_Q,\n\u001b[0;32m    316\u001b[0m         max_order\u001b[39m=\u001b[39;49m\u001b[39mself\u001b[39;49m\u001b[39m.\u001b[39;49mmax_order,\n\u001b[0;32m    317\u001b[0m         max_d\u001b[39m=\u001b[39;49m\u001b[39mself\u001b[39;49m\u001b[39m.\u001b[39;49mmax_d,\n\u001b[0;32m    318\u001b[0m         max_D\u001b[39m=\u001b[39;49m\u001b[39mself\u001b[39;49m\u001b[39m.\u001b[39;49mmax_D,\n\u001b[0;32m    319\u001b[0m         start_p\u001b[39m=\u001b[39;49m\u001b[39mself\u001b[39;49m\u001b[39m.\u001b[39;49mstart_p,\n\u001b[0;32m    320\u001b[0m         start_q\u001b[39m=\u001b[39;49m\u001b[39mself\u001b[39;49m\u001b[39m.\u001b[39;49mstart_q,\n\u001b[0;32m    321\u001b[0m         start_P\u001b[39m=\u001b[39;49m\u001b[39mself\u001b[39;49m\u001b[39m.\u001b[39;49mstart_P,\n\u001b[0;32m    322\u001b[0m         start_Q\u001b[39m=\u001b[39;49m\u001b[39mself\u001b[39;49m\u001b[39m.\u001b[39;49mstart_Q,\n\u001b[0;32m    323\u001b[0m         stationary\u001b[39m=\u001b[39;49m\u001b[39mself\u001b[39;49m\u001b[39m.\u001b[39;49mstationary,\n\u001b[0;32m    324\u001b[0m         seasonal\u001b[39m=\u001b[39;49m\u001b[39mself\u001b[39;49m\u001b[39m.\u001b[39;49mseasonal,\n\u001b[0;32m    325\u001b[0m         ic\u001b[39m=\u001b[39;49m\u001b[39mself\u001b[39;49m\u001b[39m.\u001b[39;49mic,\n\u001b[0;32m    326\u001b[0m         stepwise\u001b[39m=\u001b[39;49m\u001b[39mself\u001b[39;49m\u001b[39m.\u001b[39;49mstepwise,\n\u001b[0;32m    327\u001b[0m         nmodels\u001b[39m=\u001b[39;49m\u001b[39mself\u001b[39;49m\u001b[39m.\u001b[39;49mnmodels,\n\u001b[0;32m    328\u001b[0m         trace\u001b[39m=\u001b[39;49m\u001b[39mself\u001b[39;49m\u001b[39m.\u001b[39;49mtrace,\n\u001b[0;32m    329\u001b[0m         approximation\u001b[39m=\u001b[39;49m\u001b[39mself\u001b[39;49m\u001b[39m.\u001b[39;49mapproximation,\n\u001b[0;32m    330\u001b[0m         method\u001b[39m=\u001b[39;49m\u001b[39mself\u001b[39;49m\u001b[39m.\u001b[39;49mmethod,\n\u001b[0;32m    331\u001b[0m         truncate\u001b[39m=\u001b[39;49m\u001b[39mself\u001b[39;49m\u001b[39m.\u001b[39;49mtruncate,\n\u001b[0;32m    332\u001b[0m         xreg\u001b[39m=\u001b[39;49mX,\n\u001b[0;32m    333\u001b[0m         test\u001b[39m=\u001b[39;49m\u001b[39mself\u001b[39;49m\u001b[39m.\u001b[39;49mtest,\n\u001b[0;32m    334\u001b[0m         test_kwargs\u001b[39m=\u001b[39;49m\u001b[39mself\u001b[39;49m\u001b[39m.\u001b[39;49mtest_kwargs,\n\u001b[0;32m    335\u001b[0m         seasonal_test\u001b[39m=\u001b[39;49m\u001b[39mself\u001b[39;49m\u001b[39m.\u001b[39;49mseasonal_test,\n\u001b[0;32m    336\u001b[0m         seasonal_test_kwargs\u001b[39m=\u001b[39;49m\u001b[39mself\u001b[39;49m\u001b[39m.\u001b[39;49mseasonal_test_kwargs,\n\u001b[0;32m    337\u001b[0m         allowdrift\u001b[39m=\u001b[39;49m\u001b[39mself\u001b[39;49m\u001b[39m.\u001b[39;49mallowdrift,\n\u001b[0;32m    338\u001b[0m         allowmean\u001b[39m=\u001b[39;49m\u001b[39mself\u001b[39;49m\u001b[39m.\u001b[39;49mallowmean,\n\u001b[0;32m    339\u001b[0m         blambda\u001b[39m=\u001b[39;49m\u001b[39mself\u001b[39;49m\u001b[39m.\u001b[39;49mblambda,\n\u001b[0;32m    340\u001b[0m         biasadj\u001b[39m=\u001b[39;49m\u001b[39mself\u001b[39;49m\u001b[39m.\u001b[39;49mbiasadj,\n\u001b[0;32m    341\u001b[0m         parallel\u001b[39m=\u001b[39;49m\u001b[39mself\u001b[39;49m\u001b[39m.\u001b[39;49mparallel,\n\u001b[0;32m    342\u001b[0m         num_cores\u001b[39m=\u001b[39;49m\u001b[39mself\u001b[39;49m\u001b[39m.\u001b[39;49mnum_cores,\n\u001b[0;32m    343\u001b[0m         period\u001b[39m=\u001b[39;49m\u001b[39mself\u001b[39;49m\u001b[39m.\u001b[39;49mseason_length,\n\u001b[0;32m    344\u001b[0m     )\n\u001b[0;32m    345\u001b[0m fcst \u001b[39m=\u001b[39m forecast_arima(mod, h, xreg\u001b[39m=\u001b[39mX_future, level\u001b[39m=\u001b[39mlevel)\n\u001b[0;32m    346\u001b[0m res \u001b[39m=\u001b[39m {\u001b[39m\"\u001b[39m\u001b[39mmean\u001b[39m\u001b[39m\"\u001b[39m: fcst[\u001b[39m\"\u001b[39m\u001b[39mmean\u001b[39m\u001b[39m\"\u001b[39m]}\n",
      "File \u001b[1;32mc:\\Users\\user\\anaconda3\\envs\\load_forecasting\\lib\\site-packages\\statsforecast\\arima.py:1983\u001b[0m, in \u001b[0;36mauto_arima_f\u001b[1;34m(x, d, D, max_p, max_q, max_P, max_Q, max_order, max_d, max_D, start_p, start_q, start_P, start_Q, stationary, seasonal, ic, stepwise, nmodels, trace, approximation, method, truncate, xreg, test, test_kwargs, seasonal_test, seasonal_test_kwargs, allowdrift, allowmean, blambda, biasadj, parallel, num_cores, period)\u001b[0m\n\u001b[0;32m   1981\u001b[0m q_ \u001b[39m=\u001b[39m \u001b[39mint\u001b[39m(max_q \u001b[39m>\u001b[39m \u001b[39m0\u001b[39m)\n\u001b[0;32m   1982\u001b[0m Q_ \u001b[39m=\u001b[39m \u001b[39mint\u001b[39m(m \u001b[39m>\u001b[39m \u001b[39m1\u001b[39m \u001b[39mand\u001b[39;00m max_Q \u001b[39m>\u001b[39m \u001b[39m0\u001b[39m)\n\u001b[1;32m-> 1983\u001b[0m fit \u001b[39m=\u001b[39m p_myarima(\n\u001b[0;32m   1984\u001b[0m     order\u001b[39m=\u001b[39;49m(\u001b[39m0\u001b[39;49m, d, q_),\n\u001b[0;32m   1985\u001b[0m     seasonal\u001b[39m=\u001b[39;49m{\u001b[39m\"\u001b[39;49m\u001b[39morder\u001b[39;49m\u001b[39m\"\u001b[39;49m: (\u001b[39m0\u001b[39;49m, D, Q_), \u001b[39m\"\u001b[39;49m\u001b[39mperiod\u001b[39;49m\u001b[39m\"\u001b[39;49m: m},\n\u001b[0;32m   1986\u001b[0m )\n\u001b[0;32m   1987\u001b[0m results[k \u001b[39m+\u001b[39m \u001b[39m1\u001b[39m] \u001b[39m=\u001b[39m (\u001b[39m0\u001b[39m, d, q_, \u001b[39m0\u001b[39m, D, Q_, constant, fit[\u001b[39m\"\u001b[39m\u001b[39mic\u001b[39m\u001b[39m\"\u001b[39m])\n\u001b[0;32m   1988\u001b[0m \u001b[39mif\u001b[39;00m fit[\u001b[39m\"\u001b[39m\u001b[39mic\u001b[39m\u001b[39m\"\u001b[39m] \u001b[39m<\u001b[39m bestfit[\u001b[39m\"\u001b[39m\u001b[39mic\u001b[39m\u001b[39m\"\u001b[39m]:\n",
      "File \u001b[1;32mc:\\Users\\user\\anaconda3\\envs\\load_forecasting\\lib\\site-packages\\statsforecast\\arima.py:1210\u001b[0m, in \u001b[0;36mmyarima\u001b[1;34m(x, order, seasonal, constant, ic, trace, approximation, offset, xreg, method, **kwargs)\u001b[0m\n\u001b[0;32m   1208\u001b[0m \u001b[39melse\u001b[39;00m:\n\u001b[0;32m   1209\u001b[0m     \u001b[39mif\u001b[39;00m use_season:\n\u001b[1;32m-> 1210\u001b[0m         fit \u001b[39m=\u001b[39m arima(\n\u001b[0;32m   1211\u001b[0m             x, order, seasonal, include_mean\u001b[39m=\u001b[39;49mconstant, method\u001b[39m=\u001b[39;49mmethod, xreg\u001b[39m=\u001b[39;49mxreg\n\u001b[0;32m   1212\u001b[0m         )\n\u001b[0;32m   1213\u001b[0m     \u001b[39melse\u001b[39;00m:\n\u001b[0;32m   1214\u001b[0m         fit \u001b[39m=\u001b[39m arima(x, order, include_mean\u001b[39m=\u001b[39mconstant, method\u001b[39m=\u001b[39mmethod, xreg\u001b[39m=\u001b[39mxreg)\n",
      "File \u001b[1;32mc:\\Users\\user\\anaconda3\\envs\\load_forecasting\\lib\\site-packages\\statsforecast\\arima.py:941\u001b[0m, in \u001b[0;36marima\u001b[1;34m(x, order, seasonal, xreg, include_mean, transform_pars, fixed, init, method, SSinit, optim_method, kappa, tol, optim_control)\u001b[0m\n\u001b[0;32m    933\u001b[0m     res \u001b[39m=\u001b[39m OptimResult(\n\u001b[0;32m    934\u001b[0m         \u001b[39mTrue\u001b[39;00m,\n\u001b[0;32m    935\u001b[0m         \u001b[39m0\u001b[39m,\n\u001b[1;32m   (...)\u001b[0m\n\u001b[0;32m    938\u001b[0m         np\u001b[39m.\u001b[39marray([]),\n\u001b[0;32m    939\u001b[0m     )\n\u001b[0;32m    940\u001b[0m \u001b[39melse\u001b[39;00m:\n\u001b[1;32m--> 941\u001b[0m     res \u001b[39m=\u001b[39m minimize(\n\u001b[0;32m    942\u001b[0m         armafn,\n\u001b[0;32m    943\u001b[0m         init[mask],\n\u001b[0;32m    944\u001b[0m         args\u001b[39m=\u001b[39;49m(\n\u001b[0;32m    945\u001b[0m             x,\n\u001b[0;32m    946\u001b[0m             transform_pars,\n\u001b[0;32m    947\u001b[0m         ),\n\u001b[0;32m    948\u001b[0m         method\u001b[39m=\u001b[39;49moptim_method,\n\u001b[0;32m    949\u001b[0m         tol\u001b[39m=\u001b[39;49mtol,\n\u001b[0;32m    950\u001b[0m         options\u001b[39m=\u001b[39;49moptim_control,\n\u001b[0;32m    951\u001b[0m     )\n\u001b[0;32m    952\u001b[0m \u001b[39m# if not res.success:\u001b[39;00m\n\u001b[0;32m    953\u001b[0m \u001b[39m# warnings.warn(res.message)\u001b[39;00m\n\u001b[0;32m    954\u001b[0m coef[mask] \u001b[39m=\u001b[39m res\u001b[39m.\u001b[39mx\n",
      "File \u001b[1;32mc:\\Users\\user\\anaconda3\\envs\\load_forecasting\\lib\\site-packages\\scipy\\optimize\\_minimize.py:691\u001b[0m, in \u001b[0;36mminimize\u001b[1;34m(fun, x0, args, method, jac, hess, hessp, bounds, constraints, tol, callback, options)\u001b[0m\n\u001b[0;32m    689\u001b[0m     res \u001b[39m=\u001b[39m _minimize_cg(fun, x0, args, jac, callback, \u001b[39m*\u001b[39m\u001b[39m*\u001b[39moptions)\n\u001b[0;32m    690\u001b[0m \u001b[39melif\u001b[39;00m meth \u001b[39m==\u001b[39m \u001b[39m'\u001b[39m\u001b[39mbfgs\u001b[39m\u001b[39m'\u001b[39m:\n\u001b[1;32m--> 691\u001b[0m     res \u001b[39m=\u001b[39m _minimize_bfgs(fun, x0, args, jac, callback, \u001b[39m*\u001b[39;49m\u001b[39m*\u001b[39;49moptions)\n\u001b[0;32m    692\u001b[0m \u001b[39melif\u001b[39;00m meth \u001b[39m==\u001b[39m \u001b[39m'\u001b[39m\u001b[39mnewton-cg\u001b[39m\u001b[39m'\u001b[39m:\n\u001b[0;32m    693\u001b[0m     res \u001b[39m=\u001b[39m _minimize_newtoncg(fun, x0, args, jac, hess, hessp, callback,\n\u001b[0;32m    694\u001b[0m                              \u001b[39m*\u001b[39m\u001b[39m*\u001b[39moptions)\n",
      "File \u001b[1;32mc:\\Users\\user\\anaconda3\\envs\\load_forecasting\\lib\\site-packages\\scipy\\optimize\\_optimize.py:1388\u001b[0m, in \u001b[0;36m_minimize_bfgs\u001b[1;34m(fun, x0, args, jac, callback, gtol, norm, eps, maxiter, disp, return_all, finite_diff_rel_step, xrtol, **unknown_options)\u001b[0m\n\u001b[0;32m   1385\u001b[0m pk \u001b[39m=\u001b[39m \u001b[39m-\u001b[39mnp\u001b[39m.\u001b[39mdot(Hk, gfk)\n\u001b[0;32m   1386\u001b[0m \u001b[39mtry\u001b[39;00m:\n\u001b[0;32m   1387\u001b[0m     alpha_k, fc, gc, old_fval, old_old_fval, gfkp1 \u001b[39m=\u001b[39m \\\n\u001b[1;32m-> 1388\u001b[0m              _line_search_wolfe12(f, myfprime, xk, pk, gfk,\n\u001b[0;32m   1389\u001b[0m                                   old_fval, old_old_fval, amin\u001b[39m=\u001b[39;49m\u001b[39m1e-100\u001b[39;49m, amax\u001b[39m=\u001b[39;49m\u001b[39m1e100\u001b[39;49m)\n\u001b[0;32m   1390\u001b[0m \u001b[39mexcept\u001b[39;00m _LineSearchError:\n\u001b[0;32m   1391\u001b[0m     \u001b[39m# Line search failed to find a better solution.\u001b[39;00m\n\u001b[0;32m   1392\u001b[0m     warnflag \u001b[39m=\u001b[39m \u001b[39m2\u001b[39m\n",
      "File \u001b[1;32mc:\\Users\\user\\anaconda3\\envs\\load_forecasting\\lib\\site-packages\\scipy\\optimize\\_optimize.py:1160\u001b[0m, in \u001b[0;36m_line_search_wolfe12\u001b[1;34m(f, fprime, xk, pk, gfk, old_fval, old_old_fval, **kwargs)\u001b[0m\n\u001b[0;32m   1146\u001b[0m \u001b[39m\"\"\"\u001b[39;00m\n\u001b[0;32m   1147\u001b[0m \u001b[39mSame as line_search_wolfe1, but fall back to line_search_wolfe2 if\u001b[39;00m\n\u001b[0;32m   1148\u001b[0m \u001b[39msuitable step length is not found, and raise an exception if a\u001b[39;00m\n\u001b[1;32m   (...)\u001b[0m\n\u001b[0;32m   1155\u001b[0m \n\u001b[0;32m   1156\u001b[0m \u001b[39m\"\"\"\u001b[39;00m\n\u001b[0;32m   1158\u001b[0m extra_condition \u001b[39m=\u001b[39m kwargs\u001b[39m.\u001b[39mpop(\u001b[39m'\u001b[39m\u001b[39mextra_condition\u001b[39m\u001b[39m'\u001b[39m, \u001b[39mNone\u001b[39;00m)\n\u001b[1;32m-> 1160\u001b[0m ret \u001b[39m=\u001b[39m line_search_wolfe1(f, fprime, xk, pk, gfk,\n\u001b[0;32m   1161\u001b[0m                          old_fval, old_old_fval,\n\u001b[0;32m   1162\u001b[0m                          \u001b[39m*\u001b[39;49m\u001b[39m*\u001b[39;49mkwargs)\n\u001b[0;32m   1164\u001b[0m \u001b[39mif\u001b[39;00m ret[\u001b[39m0\u001b[39m] \u001b[39mis\u001b[39;00m \u001b[39mnot\u001b[39;00m \u001b[39mNone\u001b[39;00m \u001b[39mand\u001b[39;00m extra_condition \u001b[39mis\u001b[39;00m \u001b[39mnot\u001b[39;00m \u001b[39mNone\u001b[39;00m:\n\u001b[0;32m   1165\u001b[0m     xp1 \u001b[39m=\u001b[39m xk \u001b[39m+\u001b[39m ret[\u001b[39m0\u001b[39m] \u001b[39m*\u001b[39m pk\n",
      "File \u001b[1;32mc:\\Users\\user\\anaconda3\\envs\\load_forecasting\\lib\\site-packages\\scipy\\optimize\\_linesearch.py:84\u001b[0m, in \u001b[0;36mline_search_wolfe1\u001b[1;34m(f, fprime, xk, pk, gfk, old_fval, old_old_fval, args, c1, c2, amax, amin, xtol)\u001b[0m\n\u001b[0;32m     80\u001b[0m     \u001b[39mreturn\u001b[39;00m np\u001b[39m.\u001b[39mdot(gval[\u001b[39m0\u001b[39m], pk)\n\u001b[0;32m     82\u001b[0m derphi0 \u001b[39m=\u001b[39m np\u001b[39m.\u001b[39mdot(gfk, pk)\n\u001b[1;32m---> 84\u001b[0m stp, fval, old_fval \u001b[39m=\u001b[39m scalar_search_wolfe1(\n\u001b[0;32m     85\u001b[0m         phi, derphi, old_fval, old_old_fval, derphi0,\n\u001b[0;32m     86\u001b[0m         c1\u001b[39m=\u001b[39;49mc1, c2\u001b[39m=\u001b[39;49mc2, amax\u001b[39m=\u001b[39;49mamax, amin\u001b[39m=\u001b[39;49mamin, xtol\u001b[39m=\u001b[39;49mxtol)\n\u001b[0;32m     88\u001b[0m \u001b[39mreturn\u001b[39;00m stp, fc[\u001b[39m0\u001b[39m], gc[\u001b[39m0\u001b[39m], fval, old_fval, gval[\u001b[39m0\u001b[39m]\n",
      "File \u001b[1;32mc:\\Users\\user\\anaconda3\\envs\\load_forecasting\\lib\\site-packages\\scipy\\optimize\\_linesearch.py:161\u001b[0m, in \u001b[0;36mscalar_search_wolfe1\u001b[1;34m(phi, derphi, phi0, old_phi0, derphi0, c1, c2, amax, amin, xtol)\u001b[0m\n\u001b[0;32m    159\u001b[0m     alpha1 \u001b[39m=\u001b[39m stp\n\u001b[0;32m    160\u001b[0m     phi1 \u001b[39m=\u001b[39m phi(stp)\n\u001b[1;32m--> 161\u001b[0m     derphi1 \u001b[39m=\u001b[39m derphi(stp)\n\u001b[0;32m    162\u001b[0m \u001b[39melse\u001b[39;00m:\n\u001b[0;32m    163\u001b[0m     \u001b[39mbreak\u001b[39;00m\n",
      "File \u001b[1;32mc:\\Users\\user\\anaconda3\\envs\\load_forecasting\\lib\\site-packages\\scipy\\optimize\\_linesearch.py:78\u001b[0m, in \u001b[0;36mline_search_wolfe1.<locals>.derphi\u001b[1;34m(s)\u001b[0m\n\u001b[0;32m     77\u001b[0m \u001b[39mdef\u001b[39;00m \u001b[39mderphi\u001b[39m(s):\n\u001b[1;32m---> 78\u001b[0m     gval[\u001b[39m0\u001b[39m] \u001b[39m=\u001b[39m fprime(xk \u001b[39m+\u001b[39;49m s\u001b[39m*\u001b[39;49mpk, \u001b[39m*\u001b[39;49margs)\n\u001b[0;32m     79\u001b[0m     gc[\u001b[39m0\u001b[39m] \u001b[39m+\u001b[39m\u001b[39m=\u001b[39m \u001b[39m1\u001b[39m\n\u001b[0;32m     80\u001b[0m     \u001b[39mreturn\u001b[39;00m np\u001b[39m.\u001b[39mdot(gval[\u001b[39m0\u001b[39m], pk)\n",
      "File \u001b[1;32mc:\\Users\\user\\anaconda3\\envs\\load_forecasting\\lib\\site-packages\\scipy\\optimize\\_differentiable_functions.py:273\u001b[0m, in \u001b[0;36mScalarFunction.grad\u001b[1;34m(self, x)\u001b[0m\n\u001b[0;32m    271\u001b[0m \u001b[39mif\u001b[39;00m \u001b[39mnot\u001b[39;00m np\u001b[39m.\u001b[39marray_equal(x, \u001b[39mself\u001b[39m\u001b[39m.\u001b[39mx):\n\u001b[0;32m    272\u001b[0m     \u001b[39mself\u001b[39m\u001b[39m.\u001b[39m_update_x_impl(x)\n\u001b[1;32m--> 273\u001b[0m \u001b[39mself\u001b[39;49m\u001b[39m.\u001b[39;49m_update_grad()\n\u001b[0;32m    274\u001b[0m \u001b[39mreturn\u001b[39;00m \u001b[39mself\u001b[39m\u001b[39m.\u001b[39mg\n",
      "File \u001b[1;32mc:\\Users\\user\\anaconda3\\envs\\load_forecasting\\lib\\site-packages\\scipy\\optimize\\_differentiable_functions.py:256\u001b[0m, in \u001b[0;36mScalarFunction._update_grad\u001b[1;34m(self)\u001b[0m\n\u001b[0;32m    254\u001b[0m \u001b[39mdef\u001b[39;00m \u001b[39m_update_grad\u001b[39m(\u001b[39mself\u001b[39m):\n\u001b[0;32m    255\u001b[0m     \u001b[39mif\u001b[39;00m \u001b[39mnot\u001b[39;00m \u001b[39mself\u001b[39m\u001b[39m.\u001b[39mg_updated:\n\u001b[1;32m--> 256\u001b[0m         \u001b[39mself\u001b[39;49m\u001b[39m.\u001b[39;49m_update_grad_impl()\n\u001b[0;32m    257\u001b[0m         \u001b[39mself\u001b[39m\u001b[39m.\u001b[39mg_updated \u001b[39m=\u001b[39m \u001b[39mTrue\u001b[39;00m\n",
      "File \u001b[1;32mc:\\Users\\user\\anaconda3\\envs\\load_forecasting\\lib\\site-packages\\scipy\\optimize\\_differentiable_functions.py:173\u001b[0m, in \u001b[0;36mScalarFunction.__init__.<locals>.update_grad\u001b[1;34m()\u001b[0m\n\u001b[0;32m    171\u001b[0m \u001b[39mself\u001b[39m\u001b[39m.\u001b[39m_update_fun()\n\u001b[0;32m    172\u001b[0m \u001b[39mself\u001b[39m\u001b[39m.\u001b[39mngev \u001b[39m+\u001b[39m\u001b[39m=\u001b[39m \u001b[39m1\u001b[39m\n\u001b[1;32m--> 173\u001b[0m \u001b[39mself\u001b[39m\u001b[39m.\u001b[39mg \u001b[39m=\u001b[39m approx_derivative(fun_wrapped, \u001b[39mself\u001b[39;49m\u001b[39m.\u001b[39;49mx, f0\u001b[39m=\u001b[39;49m\u001b[39mself\u001b[39;49m\u001b[39m.\u001b[39;49mf,\n\u001b[0;32m    174\u001b[0m                            \u001b[39m*\u001b[39;49m\u001b[39m*\u001b[39;49mfinite_diff_options)\n",
      "File \u001b[1;32mc:\\Users\\user\\anaconda3\\envs\\load_forecasting\\lib\\site-packages\\scipy\\optimize\\_numdiff.py:505\u001b[0m, in \u001b[0;36mapprox_derivative\u001b[1;34m(fun, x0, method, rel_step, abs_step, f0, bounds, sparsity, as_linear_operator, args, kwargs)\u001b[0m\n\u001b[0;32m    502\u001b[0m     use_one_sided \u001b[39m=\u001b[39m \u001b[39mFalse\u001b[39;00m\n\u001b[0;32m    504\u001b[0m \u001b[39mif\u001b[39;00m sparsity \u001b[39mis\u001b[39;00m \u001b[39mNone\u001b[39;00m:\n\u001b[1;32m--> 505\u001b[0m     \u001b[39mreturn\u001b[39;00m _dense_difference(fun_wrapped, x0, f0, h,\n\u001b[0;32m    506\u001b[0m                              use_one_sided, method)\n\u001b[0;32m    507\u001b[0m \u001b[39melse\u001b[39;00m:\n\u001b[0;32m    508\u001b[0m     \u001b[39mif\u001b[39;00m \u001b[39mnot\u001b[39;00m issparse(sparsity) \u001b[39mand\u001b[39;00m \u001b[39mlen\u001b[39m(sparsity) \u001b[39m==\u001b[39m \u001b[39m2\u001b[39m:\n",
      "File \u001b[1;32mc:\\Users\\user\\anaconda3\\envs\\load_forecasting\\lib\\site-packages\\scipy\\optimize\\_numdiff.py:576\u001b[0m, in \u001b[0;36m_dense_difference\u001b[1;34m(fun, x0, f0, h, use_one_sided, method)\u001b[0m\n\u001b[0;32m    574\u001b[0m     x \u001b[39m=\u001b[39m x0 \u001b[39m+\u001b[39m h_vecs[i]\n\u001b[0;32m    575\u001b[0m     dx \u001b[39m=\u001b[39m x[i] \u001b[39m-\u001b[39m x0[i]  \u001b[39m# Recompute dx as exactly representable number.\u001b[39;00m\n\u001b[1;32m--> 576\u001b[0m     df \u001b[39m=\u001b[39m fun(x) \u001b[39m-\u001b[39m f0\n\u001b[0;32m    577\u001b[0m \u001b[39melif\u001b[39;00m method \u001b[39m==\u001b[39m \u001b[39m'\u001b[39m\u001b[39m3-point\u001b[39m\u001b[39m'\u001b[39m \u001b[39mand\u001b[39;00m use_one_sided[i]:\n\u001b[0;32m    578\u001b[0m     x1 \u001b[39m=\u001b[39m x0 \u001b[39m+\u001b[39m h_vecs[i]\n",
      "File \u001b[1;32mc:\\Users\\user\\anaconda3\\envs\\load_forecasting\\lib\\site-packages\\scipy\\optimize\\_numdiff.py:456\u001b[0m, in \u001b[0;36mapprox_derivative.<locals>.fun_wrapped\u001b[1;34m(x)\u001b[0m\n\u001b[0;32m    455\u001b[0m \u001b[39mdef\u001b[39;00m \u001b[39mfun_wrapped\u001b[39m(x):\n\u001b[1;32m--> 456\u001b[0m     f \u001b[39m=\u001b[39m np\u001b[39m.\u001b[39matleast_1d(fun(x, \u001b[39m*\u001b[39;49margs, \u001b[39m*\u001b[39;49m\u001b[39m*\u001b[39;49mkwargs))\n\u001b[0;32m    457\u001b[0m     \u001b[39mif\u001b[39;00m f\u001b[39m.\u001b[39mndim \u001b[39m>\u001b[39m \u001b[39m1\u001b[39m:\n\u001b[0;32m    458\u001b[0m         \u001b[39mraise\u001b[39;00m \u001b[39mRuntimeError\u001b[39;00m(\u001b[39m\"\u001b[39m\u001b[39m`fun` return value has \u001b[39m\u001b[39m\"\u001b[39m\n\u001b[0;32m    459\u001b[0m                            \u001b[39m\"\u001b[39m\u001b[39mmore than 1 dimension.\u001b[39m\u001b[39m\"\u001b[39m)\n",
      "File \u001b[1;32mc:\\Users\\user\\anaconda3\\envs\\load_forecasting\\lib\\site-packages\\scipy\\optimize\\_differentiable_functions.py:137\u001b[0m, in \u001b[0;36mScalarFunction.__init__.<locals>.fun_wrapped\u001b[1;34m(x)\u001b[0m\n\u001b[0;32m    133\u001b[0m \u001b[39mself\u001b[39m\u001b[39m.\u001b[39mnfev \u001b[39m+\u001b[39m\u001b[39m=\u001b[39m \u001b[39m1\u001b[39m\n\u001b[0;32m    134\u001b[0m \u001b[39m# Send a copy because the user may overwrite it.\u001b[39;00m\n\u001b[0;32m    135\u001b[0m \u001b[39m# Overwriting results in undefined behaviour because\u001b[39;00m\n\u001b[0;32m    136\u001b[0m \u001b[39m# fun(self.x) will change self.x, with the two no longer linked.\u001b[39;00m\n\u001b[1;32m--> 137\u001b[0m fx \u001b[39m=\u001b[39m fun(np\u001b[39m.\u001b[39;49mcopy(x), \u001b[39m*\u001b[39;49margs)\n\u001b[0;32m    138\u001b[0m \u001b[39m# Make sure the function returns a true scalar\u001b[39;00m\n\u001b[0;32m    139\u001b[0m \u001b[39mif\u001b[39;00m \u001b[39mnot\u001b[39;00m np\u001b[39m.\u001b[39misscalar(fx):\n",
      "File \u001b[1;32mc:\\Users\\user\\anaconda3\\envs\\load_forecasting\\lib\\site-packages\\statsforecast\\arima.py:668\u001b[0m, in \u001b[0;36marima.<locals>.armafn\u001b[1;34m(p, x, trans)\u001b[0m\n\u001b[0;32m    656\u001b[0m     x \u001b[39m-\u001b[39m\u001b[39m=\u001b[39m np\u001b[39m.\u001b[39mdot(xreg, par[narma \u001b[39m+\u001b[39m np\u001b[39m.\u001b[39marange(ncxreg)])\n\u001b[0;32m    657\u001b[0m res \u001b[39m=\u001b[39m arima_like(\n\u001b[0;32m    658\u001b[0m     x,\n\u001b[0;32m    659\u001b[0m     Z[\u001b[39m\"\u001b[39m\u001b[39mphi\u001b[39m\u001b[39m\"\u001b[39m],\n\u001b[1;32m   (...)\u001b[0m\n\u001b[0;32m    666\u001b[0m     \u001b[39mFalse\u001b[39;00m,\n\u001b[0;32m    667\u001b[0m )\n\u001b[1;32m--> 668\u001b[0m \u001b[39mif\u001b[39;00m res[\u001b[39m2\u001b[39;49m] \u001b[39m==\u001b[39m \u001b[39m0.0\u001b[39m:\n\u001b[0;32m    669\u001b[0m     \u001b[39mreturn\u001b[39;00m math\u001b[39m.\u001b[39minf\n\u001b[0;32m    671\u001b[0m s2 \u001b[39m=\u001b[39m res[\u001b[39m0\u001b[39m] \u001b[39m/\u001b[39m res[\u001b[39m2\u001b[39m]\n",
      "\u001b[1;31mKeyboardInterrupt\u001b[0m: "
     ]
    }
   ],
   "source": [
    "crossvaldation_df = sf.cross_validation(\n",
    "    df=df2,\n",
    "    h=24,\n",
    "    step_size=24,\n",
    "    n_windows=2\n",
    "  )\n",
    "\n",
    "crossvaldation_df.head()"
   ]
  },
  {
   "cell_type": "code",
   "execution_count": null,
   "metadata": {},
   "outputs": [],
   "source": [
    "def evaluate_cross_validation(df, metric):\n",
    "    models = df.drop(columns=['ds', 'cutoff', 'y']).columns.tolist()\n",
    "    evals = []\n",
    "    for model in models:\n",
    "        eval_ = df.groupby(['unique_id', 'cutoff']).apply(lambda x: metric(x['y'].values, x[model].values)).to_frame() # Calculate loss for every unique_id, model and cutoff.\n",
    "        eval_.columns = [model]\n",
    "        evals.append(eval_)\n",
    "    evals = pd.concat(evals, axis=1)\n",
    "    evals = evals.groupby(['unique_id']).mean(numeric_only=True) # Averages the error metrics for all cutoffs for every combination of model and unique_id\n",
    "    evals['best_model'] = evals.idxmin(axis=1)\n",
    "    return evals"
   ]
  },
  {
   "cell_type": "code",
   "execution_count": null,
   "metadata": {},
   "outputs": [],
   "source": [
    "evaluation_df = evaluate_cross_validation(crossvaldation_df, mse)\n",
    "\n",
    "evaluation_df.head()"
   ]
  },
  {
   "cell_type": "code",
   "execution_count": null,
   "metadata": {},
   "outputs": [],
   "source": [
    "summary_df = evaluation_df.groupby('best_model').size().sort_values().to_frame()\n",
    "\n",
    "summary_df.reset_index().columns = [\"Model\", \"Nr. of unique_ids\"]"
   ]
  },
  {
   "cell_type": "code",
   "execution_count": null,
   "metadata": {},
   "outputs": [],
   "source": []
  }
 ],
 "metadata": {
  "kernelspec": {
   "display_name": "Python 3 (ipykernel)",
   "language": "python",
   "name": "python3"
  },
  "language_info": {
   "codemirror_mode": {
    "name": "ipython",
    "version": 3
   },
   "file_extension": ".py",
   "mimetype": "text/x-python",
   "name": "python",
   "nbconvert_exporter": "python",
   "pygments_lexer": "ipython3",
   "version": "3.8.16"
  }
 },
 "nbformat": 4,
 "nbformat_minor": 4
}
