{
 "cells": [
  {
   "cell_type": "code",
   "execution_count": 2,
   "metadata": {},
   "outputs": [],
   "source": [
    "import funcs.data_wrangling as dw\n",
    "import pandas as pd\n",
    "import numpy as np\n",
    "#import seaborn as sns\n",
    "#import matplotlib.pyplot as plt\n",
    "#import plotly.express as px\n",
    "#from matplotlib import rcParams\n",
    "#from statsmodels.tsa.seasonal import STL\n",
    "#from statsmodels.graphics.tsaplots import plot_acf, plot_pacf\n",
    "from statsforecast import StatsForecast\n",
    "from statsforecast.models import (\n",
    "    AutoARIMA,\n",
    "    HoltWinters,\n",
    "    CrostonClassic as Croston, \n",
    "    HistoricAverage,\n",
    "    DynamicOptimizedTheta as DOT,\n",
    "    SeasonalNaive\n",
    ")\n",
    "#from datasetsforecast.losses import mse, mae, rmse\n",
    "\n",
    "#rcParams['figure.figsize'] = 15, 5\n",
    "\n",
    "import warnings\n",
    "warnings.filterwarnings('ignore')"
   ]
  },
  {
   "cell_type": "code",
   "execution_count": 3,
   "metadata": {},
   "outputs": [],
   "source": [
    "data = dw.ons_data(freq='h', ano_inicio=2000, ano_fim=2023, idreg=\"S\")\n",
    "df = dw.pipeline(data, update=False)"
   ]
  },
  {
   "cell_type": "code",
   "execution_count": 4,
   "metadata": {},
   "outputs": [
    {
     "data": {
      "text/html": [
       "<div>\n",
       "<style scoped>\n",
       "    .dataframe tbody tr th:only-of-type {\n",
       "        vertical-align: middle;\n",
       "    }\n",
       "\n",
       "    .dataframe tbody tr th {\n",
       "        vertical-align: top;\n",
       "    }\n",
       "\n",
       "    .dataframe thead th {\n",
       "        text-align: right;\n",
       "    }\n",
       "</style>\n",
       "<table border=\"1\" class=\"dataframe\">\n",
       "  <thead>\n",
       "    <tr style=\"text-align: right;\">\n",
       "      <th></th>\n",
       "      <th>id_reg</th>\n",
       "      <th>desc_reg</th>\n",
       "      <th>load_mwmed</th>\n",
       "    </tr>\n",
       "    <tr>\n",
       "      <th>date</th>\n",
       "      <th></th>\n",
       "      <th></th>\n",
       "      <th></th>\n",
       "    </tr>\n",
       "  </thead>\n",
       "  <tbody>\n",
       "    <tr>\n",
       "      <th>2000-01-01 00:00:00</th>\n",
       "      <td>S</td>\n",
       "      <td>SUL</td>\n",
       "      <td>5777.0</td>\n",
       "    </tr>\n",
       "    <tr>\n",
       "      <th>2000-01-01 01:00:00</th>\n",
       "      <td>S</td>\n",
       "      <td>SUL</td>\n",
       "      <td>5580.7</td>\n",
       "    </tr>\n",
       "    <tr>\n",
       "      <th>2000-01-01 02:00:00</th>\n",
       "      <td>S</td>\n",
       "      <td>SUL</td>\n",
       "      <td>5098.7</td>\n",
       "    </tr>\n",
       "    <tr>\n",
       "      <th>2000-01-01 03:00:00</th>\n",
       "      <td>S</td>\n",
       "      <td>SUL</td>\n",
       "      <td>4753.7</td>\n",
       "    </tr>\n",
       "    <tr>\n",
       "      <th>2000-01-01 04:00:00</th>\n",
       "      <td>S</td>\n",
       "      <td>SUL</td>\n",
       "      <td>4584.1</td>\n",
       "    </tr>\n",
       "  </tbody>\n",
       "</table>\n",
       "</div>"
      ],
      "text/plain": [
       "                    id_reg desc_reg  load_mwmed\n",
       "date                                           \n",
       "2000-01-01 00:00:00      S      SUL      5777.0\n",
       "2000-01-01 01:00:00      S      SUL      5580.7\n",
       "2000-01-01 02:00:00      S      SUL      5098.7\n",
       "2000-01-01 03:00:00      S      SUL      4753.7\n",
       "2000-01-01 04:00:00      S      SUL      4584.1"
      ]
     },
     "execution_count": 4,
     "metadata": {},
     "output_type": "execute_result"
    }
   ],
   "source": [
    "df.head()"
   ]
  },
  {
   "cell_type": "code",
   "execution_count": 12,
   "metadata": {},
   "outputs": [
    {
     "data": {
      "text/html": [
       "<div>\n",
       "<style scoped>\n",
       "    .dataframe tbody tr th:only-of-type {\n",
       "        vertical-align: middle;\n",
       "    }\n",
       "\n",
       "    .dataframe tbody tr th {\n",
       "        vertical-align: top;\n",
       "    }\n",
       "\n",
       "    .dataframe thead th {\n",
       "        text-align: right;\n",
       "    }\n",
       "</style>\n",
       "<table border=\"1\" class=\"dataframe\">\n",
       "  <thead>\n",
       "    <tr style=\"text-align: right;\">\n",
       "      <th></th>\n",
       "      <th>id_reg</th>\n",
       "      <th>desc_reg</th>\n",
       "      <th>load_mwmed</th>\n",
       "    </tr>\n",
       "    <tr>\n",
       "      <th>date</th>\n",
       "      <th></th>\n",
       "      <th></th>\n",
       "      <th></th>\n",
       "    </tr>\n",
       "  </thead>\n",
       "  <tbody>\n",
       "    <tr>\n",
       "      <th>2022-03-07 00:00:00</th>\n",
       "      <td>S</td>\n",
       "      <td>SUL</td>\n",
       "      <td>12638.106</td>\n",
       "    </tr>\n",
       "    <tr>\n",
       "      <th>2022-03-07 01:00:00</th>\n",
       "      <td>S</td>\n",
       "      <td>SUL</td>\n",
       "      <td>12158.367</td>\n",
       "    </tr>\n",
       "    <tr>\n",
       "      <th>2022-03-07 02:00:00</th>\n",
       "      <td>S</td>\n",
       "      <td>SUL</td>\n",
       "      <td>11829.226</td>\n",
       "    </tr>\n",
       "    <tr>\n",
       "      <th>2022-03-07 03:00:00</th>\n",
       "      <td>S</td>\n",
       "      <td>SUL</td>\n",
       "      <td>11627.201</td>\n",
       "    </tr>\n",
       "    <tr>\n",
       "      <th>2022-03-07 04:00:00</th>\n",
       "      <td>S</td>\n",
       "      <td>SUL</td>\n",
       "      <td>11574.747</td>\n",
       "    </tr>\n",
       "  </tbody>\n",
       "</table>\n",
       "</div>"
      ],
      "text/plain": [
       "                    id_reg desc_reg  load_mwmed\n",
       "date                                           \n",
       "2022-03-07 00:00:00      S      SUL   12638.106\n",
       "2022-03-07 01:00:00      S      SUL   12158.367\n",
       "2022-03-07 02:00:00      S      SUL   11829.226\n",
       "2022-03-07 03:00:00      S      SUL   11627.201\n",
       "2022-03-07 04:00:00      S      SUL   11574.747"
      ]
     },
     "execution_count": 12,
     "metadata": {},
     "output_type": "execute_result"
    }
   ],
   "source": [
    "df_ly = df.iloc[-(24*365):,:]\n",
    "df_ly.head()"
   ]
  },
  {
   "cell_type": "code",
   "execution_count": 13,
   "metadata": {},
   "outputs": [],
   "source": [
    "df2 = dw.prepare_statsforecast_df(df_ly, \"hourly_load\")"
   ]
  },
  {
   "cell_type": "code",
   "execution_count": 14,
   "metadata": {},
   "outputs": [
    {
     "data": {
      "text/plain": [
       "(8760, 3)"
      ]
     },
     "execution_count": 14,
     "metadata": {},
     "output_type": "execute_result"
    }
   ],
   "source": [
    "df2.shape"
   ]
  },
  {
   "attachments": {},
   "cell_type": "markdown",
   "metadata": {},
   "source": [
    "# AutoArima"
   ]
  },
  {
   "cell_type": "code",
   "execution_count": 15,
   "metadata": {},
   "outputs": [],
   "source": [
    "sf = StatsForecast(\n",
    "    models= [AutoARIMA(season_length=24)],\n",
    "    freq='H'\n",
    ")"
   ]
  },
  {
   "cell_type": "code",
   "execution_count": 16,
   "metadata": {},
   "outputs": [],
   "source": [
    "sf.fit(df2)"
   ]
  },
  {
   "cell_type": "markdown",
   "metadata": {},
   "source": [
    "# Multiple models"
   ]
  },
  {
   "cell_type": "code",
   "execution_count": null,
   "metadata": {},
   "outputs": [],
   "source": [
    "models = [\n",
    "    AutoARIMA(season_length=24),\n",
    "    HoltWinters(),\n",
    "    Croston(),\n",
    "    SeasonalNaive(season_length=24),\n",
    "    HistoricAverage(),\n",
    "    DOT(season_length=24)\n",
    "]"
   ]
  },
  {
   "cell_type": "code",
   "execution_count": null,
   "metadata": {},
   "outputs": [],
   "source": [
    "sf = StatsForecast(\n",
    "    df=df2, \n",
    "    models=models,\n",
    "    freq='H', \n",
    "    n_jobs=-1,\n",
    "    fallback_model = SeasonalNaive(season_length=7)\n",
    ")"
   ]
  },
  {
   "cell_type": "code",
   "execution_count": null,
   "metadata": {},
   "outputs": [],
   "source": [
    "forecasts_df = sf.forecast(h=48, level=[90])\n",
    "\n",
    "forecasts_df.head()"
   ]
  },
  {
   "cell_type": "code",
   "execution_count": null,
   "metadata": {},
   "outputs": [],
   "source": [
    "sf.plot(df2,forecasts_df)"
   ]
  },
  {
   "cell_type": "code",
   "execution_count": null,
   "metadata": {},
   "outputs": [],
   "source": [
    "crossvaldation_df = sf.cross_validation(\n",
    "    df=df2,\n",
    "    h=24,\n",
    "    step_size=24,\n",
    "    n_windows=2\n",
    "  )\n",
    "\n",
    "crossvaldation_df.head()"
   ]
  },
  {
   "cell_type": "code",
   "execution_count": null,
   "metadata": {},
   "outputs": [],
   "source": [
    "def evaluate_cross_validation(df, metric):\n",
    "    models = df.drop(columns=['ds', 'cutoff', 'y']).columns.tolist()\n",
    "    evals = []\n",
    "    for model in models:\n",
    "        eval_ = df.groupby(['unique_id', 'cutoff']).apply(lambda x: metric(x['y'].values, x[model].values)).to_frame() # Calculate loss for every unique_id, model and cutoff.\n",
    "        eval_.columns = [model]\n",
    "        evals.append(eval_)\n",
    "    evals = pd.concat(evals, axis=1)\n",
    "    evals = evals.groupby(['unique_id']).mean(numeric_only=True) # Averages the error metrics for all cutoffs for every combination of model and unique_id\n",
    "    evals['best_model'] = evals.idxmin(axis=1)\n",
    "    return evals"
   ]
  },
  {
   "cell_type": "code",
   "execution_count": null,
   "metadata": {},
   "outputs": [],
   "source": [
    "evaluation_df = evaluate_cross_validation(crossvaldation_df, mse)\n",
    "\n",
    "evaluation_df.head()"
   ]
  },
  {
   "cell_type": "code",
   "execution_count": null,
   "metadata": {},
   "outputs": [],
   "source": [
    "summary_df = evaluation_df.groupby('best_model').size().sort_values().to_frame()\n",
    "\n",
    "summary_df.reset_index().columns = [\"Model\", \"Nr. of unique_ids\"]"
   ]
  },
  {
   "cell_type": "code",
   "execution_count": null,
   "metadata": {},
   "outputs": [],
   "source": []
  }
 ],
 "metadata": {
  "kernelspec": {
   "display_name": "Python 3 (ipykernel)",
   "language": "python",
   "name": "python3"
  },
  "language_info": {
   "codemirror_mode": {
    "name": "ipython",
    "version": 3
   },
   "file_extension": ".py",
   "mimetype": "text/x-python",
   "name": "python",
   "nbconvert_exporter": "python",
   "pygments_lexer": "ipython3",
   "version": "3.8.16"
  }
 },
 "nbformat": 4,
 "nbformat_minor": 4
}
