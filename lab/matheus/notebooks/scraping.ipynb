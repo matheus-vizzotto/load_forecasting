{
 "cells": [
  {
   "cell_type": "code",
   "execution_count": 1,
   "metadata": {},
   "outputs": [],
   "source": [
    "import pandas as pd\n",
    "import requests"
   ]
  },
  {
   "cell_type": "code",
   "execution_count": 5,
   "metadata": {},
   "outputs": [],
   "source": [
    "def download_carga_horaria(ano_inicio: int, ano_fim: int, printer: bool=False) -> pd.Series:\n",
    "    \"\"\"Função para fazer download dos dados de carga elétrica por subsistema no período de referência em base horária.\n",
    "       Página: https://dados.ons.org.br/dataset/curva-carga\n",
    "\n",
    "    Args:\n",
    "        ano_inicio (int): ano inicial de extração.\n",
    "        ano_fim (int): ano final de extração.\n",
    "        printer(bool): rastreia ano que está sendo extraído com print em tela.\n",
    "\n",
    "    Returns:\n",
    "        pd.Series: Pandas Series com dados de carga horária entre ano_inicio e ano_fim, tendo como índice a data-hora.\n",
    "    \"\"\"\n",
    "\n",
    "    url = \"https://ons-dl-prod-opendata.s3.amazonaws.com/dataset/curva-carga-ho/CURVA_CARGA_{}.csv\"\n",
    "    # verificar se anos inicial e final estão disponíveis\n",
    "    get0 = requests.get(url.format(ano_inicio)).status_code # verify = False (autenticação)\n",
    "    getn = requests.get(url.format(ano_fim)).status_code \n",
    "    if (get0 == 200) and (getn == 200): # 200: página (ano) disponível\n",
    "        # concatenar arquivos de cada ano em um único dataframe\n",
    "        df = pd.DataFrame()\n",
    "        for ano in range(ano_inicio, ano_fim + 1):\n",
    "            if printer:\n",
    "                print(f\"Lendo ano {ano}...\")\n",
    "            df2 = pd.read_csv(url.format(ano), sep = \";\")\n",
    "            df = pd.concat([df, df2])\n",
    "        df.columns = [\"id_reg\", \"desc_reg\", \"date\", \"load_mwmed\"]\n",
    "        df.loc[:, \"date\"] = pd.to_datetime(df.loc[:, \"date\"], format = '%Y-%m-%d %H:%M:%S')\n",
    "        df.sort_values(by = \"date\", inplace = True)\n",
    "        df.set_index(\"date\", inplace=True)\n",
    "        return df\n",
    "    else:\n",
    "       print(\"Ano não disponível.\")"
   ]
  },
  {
   "cell_type": "code",
   "execution_count": null,
   "metadata": {},
   "outputs": [],
   "source": [
    "df = download_carga_horaria(2000, 2023)"
   ]
  }
 ],
 "metadata": {
  "language_info": {
   "name": "python"
  },
  "orig_nbformat": 4
 },
 "nbformat": 4,
 "nbformat_minor": 2
}
