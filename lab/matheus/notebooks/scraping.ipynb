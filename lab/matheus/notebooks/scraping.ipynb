{
 "cells": [
  {
   "cell_type": "code",
   "execution_count": 1,
   "metadata": {},
   "outputs": [],
   "source": [
    "import pandas as pd\n",
    "import requests\n",
    "import datetime as dt\n",
    "from typing import List\n",
    "import matplotlib.pyplot as plt\n",
    "import funcs.data_wrangling as dw"
   ]
  },
  {
   "cell_type": "code",
   "execution_count": 2,
   "metadata": {},
   "outputs": [
    {
     "name": "stderr",
     "output_type": "stream",
     "text": [
      "c:\\Users\\user\\Projetos\\load_forecasting\\lab\\matheus\\notebooks\\funcs\\data_wrangling.py:126: FutureWarning: In a future version, `df.iloc[:, i] = newvals` will attempt to set the values inplace instead of always setting a new array. To retain the old behavior, use either `df[df.columns[i]] = newvals` or, if columns are non-unique, `df.isetitem(i, newvals)`\n",
      "  y.loc[:,\"date\"] = pd.to_datetime(y.loc[:,\"date\"])\n"
     ]
    }
   ],
   "source": [
    "data = dw.ons_data(freq='h', ano_inicio=2000, ano_fim=2023, idreg=\"S\")\n",
    "df0, df = dw.pipeline(data)"
   ]
  },
  {
   "cell_type": "code",
   "execution_count": 4,
   "metadata": {},
   "outputs": [
    {
     "name": "stdout",
     "output_type": "stream",
     "text": [
      "<class 'pandas.core.frame.DataFrame'>\n",
      "RangeIndex: 203026 entries, 0 to 203025\n",
      "Data columns (total 4 columns):\n",
      " #   Column      Non-Null Count   Dtype         \n",
      "---  ------      --------------   -----         \n",
      " 0   date        203026 non-null  datetime64[ns]\n",
      " 1   id_reg      203026 non-null  object        \n",
      " 2   desc_reg    203026 non-null  object        \n",
      " 3   load_mwmed  202734 non-null  float64       \n",
      "dtypes: datetime64[ns](1), float64(1), object(2)\n",
      "memory usage: 6.2+ MB\n"
     ]
    }
   ],
   "source": [
    "df0.info()"
   ]
  },
  {
   "cell_type": "code",
   "execution_count": 5,
   "metadata": {},
   "outputs": [
    {
     "name": "stdout",
     "output_type": "stream",
     "text": [
      "<class 'pandas.core.frame.DataFrame'>\n",
      "DatetimeIndex: 203040 entries, 2000-01-01 00:00:00 to 2023-02-28 23:00:00\n",
      "Data columns (total 3 columns):\n",
      " #   Column      Non-Null Count   Dtype  \n",
      "---  ------      --------------   -----  \n",
      " 0   id_reg      203040 non-null  object \n",
      " 1   desc_reg    203040 non-null  object \n",
      " 2   load_mwmed  203040 non-null  float64\n",
      "dtypes: float64(1), object(2)\n",
      "memory usage: 6.2+ MB\n"
     ]
    }
   ],
   "source": [
    "df.info()"
   ]
  },
  {
   "cell_type": "code",
   "execution_count": 3,
   "metadata": {},
   "outputs": [],
   "source": [
    "data = ons_data(freq='d', ano_inicio=2000, ano_fim=2023, idreg=\"S\")\n",
    "data.read()"
   ]
  },
  {
   "cell_type": "code",
   "execution_count": 4,
   "metadata": {},
   "outputs": [
    {
     "name": "stdout",
     "output_type": "stream",
     "text": [
      "Datas faltantes:\n",
      " []\n",
      "Datas estranhas:\n",
      " [Timestamp('2013-02-02 00:00:01')]\n"
     ]
    }
   ],
   "source": [
    "data.check_date_column(printer=True)"
   ]
  },
  {
   "cell_type": "code",
   "execution_count": 13,
   "metadata": {},
   "outputs": [
    {
     "name": "stdout",
     "output_type": "stream",
     "text": [
      "Inserindo 14 datas.\n",
      "Retirando 0 datas.\n",
      "<class 'pandas.core.frame.DataFrame'>\n",
      "DatetimeIndex: 203026 entries, 2000-01-01 00:00:00 to 2023-02-28 23:00:00\n",
      "Data columns (total 3 columns):\n",
      " #   Column      Non-Null Count   Dtype  \n",
      "---  ------      --------------   -----  \n",
      " 0   id_reg      203026 non-null  object \n",
      " 1   desc_reg    203026 non-null  object \n",
      " 2   load_mwmed  202734 non-null  float64\n",
      "dtypes: float64(1), object(2)\n",
      "memory usage: 6.2+ MB\n",
      "\n",
      " None\n"
     ]
    },
    {
     "name": "stderr",
     "output_type": "stream",
     "text": [
      "c:\\Users\\user\\Projetos\\load_forecasting\\lab\\matheus\\notebooks\\funcs\\data_wrangling.py:126: FutureWarning: In a future version, `df.iloc[:, i] = newvals` will attempt to set the values inplace instead of always setting a new array. To retain the old behavior, use either `df[df.columns[i]] = newvals` or, if columns are non-unique, `df.isetitem(i, newvals)`\n",
      "  y.loc[:,\"date\"] = pd.to_datetime(y.loc[:,\"date\"])\n"
     ]
    },
    {
     "name": "stdout",
     "output_type": "stream",
     "text": [
      "<class 'pandas.core.frame.DataFrame'>\n",
      "DatetimeIndex: 203040 entries, 2000-01-01 00:00:00 to 2023-02-28 23:00:00\n",
      "Data columns (total 3 columns):\n",
      " #   Column      Non-Null Count   Dtype  \n",
      "---  ------      --------------   -----  \n",
      " 0   id_reg      203040 non-null  object \n",
      " 1   desc_reg    203040 non-null  object \n",
      " 2   load_mwmed  203040 non-null  float64\n",
      "dtypes: float64(1), object(2)\n",
      "memory usage: 6.2+ MB\n",
      "None\n"
     ]
    }
   ],
   "source": [
    "data1 = dw.ons_data(freq='h', ano_inicio=2000, ano_fim=2023, idreg=\"S\")\n",
    "data1.read()\n",
    "df1 = data1.data\n",
    "data2 = dw.ons_data(freq='h', ano_inicio=2000, ano_fim=2023, idreg=\"S\")\n",
    "df2 = dw.pipeline(data2)\n",
    "\n",
    "print('\\n',df1.info())\n",
    "print(df2.info())"
   ]
  },
  {
   "cell_type": "code",
   "execution_count": 21,
   "metadata": {},
   "outputs": [
    {
     "data": {
      "text/html": [
       "<div>\n",
       "<style scoped>\n",
       "    .dataframe tbody tr th:only-of-type {\n",
       "        vertical-align: middle;\n",
       "    }\n",
       "\n",
       "    .dataframe tbody tr th {\n",
       "        vertical-align: top;\n",
       "    }\n",
       "\n",
       "    .dataframe thead th {\n",
       "        text-align: right;\n",
       "    }\n",
       "</style>\n",
       "<table border=\"1\" class=\"dataframe\">\n",
       "  <thead>\n",
       "    <tr style=\"text-align: right;\">\n",
       "      <th></th>\n",
       "      <th>id_reg</th>\n",
       "      <th>desc_reg</th>\n",
       "      <th>load_mwmed</th>\n",
       "    </tr>\n",
       "  </thead>\n",
       "  <tbody>\n",
       "    <tr>\n",
       "      <th>count</th>\n",
       "      <td>203026</td>\n",
       "      <td>203026</td>\n",
       "      <td>202734.000000</td>\n",
       "    </tr>\n",
       "    <tr>\n",
       "      <th>unique</th>\n",
       "      <td>1</td>\n",
       "      <td>1</td>\n",
       "      <td>NaN</td>\n",
       "    </tr>\n",
       "    <tr>\n",
       "      <th>top</th>\n",
       "      <td>S</td>\n",
       "      <td>SUL</td>\n",
       "      <td>NaN</td>\n",
       "    </tr>\n",
       "    <tr>\n",
       "      <th>freq</th>\n",
       "      <td>203026</td>\n",
       "      <td>203026</td>\n",
       "      <td>NaN</td>\n",
       "    </tr>\n",
       "    <tr>\n",
       "      <th>mean</th>\n",
       "      <td>NaN</td>\n",
       "      <td>NaN</td>\n",
       "      <td>9296.426621</td>\n",
       "    </tr>\n",
       "    <tr>\n",
       "      <th>std</th>\n",
       "      <td>NaN</td>\n",
       "      <td>NaN</td>\n",
       "      <td>2560.562389</td>\n",
       "    </tr>\n",
       "    <tr>\n",
       "      <th>min</th>\n",
       "      <td>NaN</td>\n",
       "      <td>NaN</td>\n",
       "      <td>0.000000</td>\n",
       "    </tr>\n",
       "    <tr>\n",
       "      <th>25%</th>\n",
       "      <td>NaN</td>\n",
       "      <td>NaN</td>\n",
       "      <td>7408.465004</td>\n",
       "    </tr>\n",
       "    <tr>\n",
       "      <th>50%</th>\n",
       "      <td>NaN</td>\n",
       "      <td>NaN</td>\n",
       "      <td>9003.807495</td>\n",
       "    </tr>\n",
       "    <tr>\n",
       "      <th>75%</th>\n",
       "      <td>NaN</td>\n",
       "      <td>NaN</td>\n",
       "      <td>11154.261750</td>\n",
       "    </tr>\n",
       "    <tr>\n",
       "      <th>max</th>\n",
       "      <td>NaN</td>\n",
       "      <td>NaN</td>\n",
       "      <td>18924.745000</td>\n",
       "    </tr>\n",
       "  </tbody>\n",
       "</table>\n",
       "</div>"
      ],
      "text/plain": [
       "        id_reg desc_reg     load_mwmed\n",
       "count   203026   203026  202734.000000\n",
       "unique       1        1            NaN\n",
       "top          S      SUL            NaN\n",
       "freq    203026   203026            NaN\n",
       "mean       NaN      NaN    9296.426621\n",
       "std        NaN      NaN    2560.562389\n",
       "min        NaN      NaN       0.000000\n",
       "25%        NaN      NaN    7408.465004\n",
       "50%        NaN      NaN    9003.807495\n",
       "75%        NaN      NaN   11154.261750\n",
       "max        NaN      NaN   18924.745000"
      ]
     },
     "execution_count": 21,
     "metadata": {},
     "output_type": "execute_result"
    }
   ],
   "source": [
    "df1.describe(include='all')"
   ]
  }
 ],
 "metadata": {
  "language_info": {
   "name": "python"
  },
  "orig_nbformat": 4
 },
 "nbformat": 4,
 "nbformat_minor": 2
}
