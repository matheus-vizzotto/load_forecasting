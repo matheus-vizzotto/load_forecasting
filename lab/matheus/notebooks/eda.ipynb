{
 "cells": [
  {
   "cell_type": "code",
   "execution_count": 1,
   "metadata": {},
   "outputs": [],
   "source": [
    "import funcs.scraper as scp"
   ]
  },
  {
   "cell_type": "code",
   "execution_count": 2,
   "metadata": {},
   "outputs": [
    {
     "name": "stdout",
     "output_type": "stream",
     "text": [
      "Lendo ano 2000...\n",
      "Lendo ano 2001...\n",
      "Lendo ano 2002...\n",
      "Lendo ano 2003...\n",
      "Lendo ano 2004...\n",
      "Lendo ano 2005...\n",
      "Lendo ano 2006...\n",
      "Lendo ano 2007...\n",
      "Lendo ano 2008...\n",
      "Lendo ano 2009...\n",
      "Lendo ano 2010...\n",
      "Lendo ano 2011...\n",
      "Lendo ano 2012...\n",
      "Lendo ano 2013...\n",
      "Lendo ano 2014...\n",
      "Lendo ano 2015...\n",
      "Lendo ano 2016...\n",
      "Lendo ano 2017...\n",
      "Lendo ano 2018...\n",
      "Lendo ano 2019...\n",
      "Lendo ano 2020...\n",
      "Lendo ano 2021...\n",
      "Lendo ano 2022...\n",
      "Lendo ano 2023...\n"
     ]
    }
   ],
   "source": [
    "df = scp.download_carga_diaria(2000,2023,printer=True)"
   ]
  },
  {
   "cell_type": "code",
   "execution_count": 4,
   "metadata": {},
   "outputs": [
    {
     "data": {
      "text/plain": [
       "id_reg         0\n",
       "desc_reg       0\n",
       "load_mwmed    61\n",
       "dtype: int64"
      ]
     },
     "execution_count": 4,
     "metadata": {},
     "output_type": "execute_result"
    }
   ],
   "source": [
    "df.isna().sum()"
   ]
  }
 ],
 "metadata": {
  "language_info": {
   "name": "python"
  },
  "orig_nbformat": 4
 },
 "nbformat": 4,
 "nbformat_minor": 2
}
