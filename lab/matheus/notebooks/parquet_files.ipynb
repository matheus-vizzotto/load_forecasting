{
 "cells": [
  {
   "cell_type": "code",
   "execution_count": 8,
   "metadata": {},
   "outputs": [],
   "source": [
    "import funcs.data_wrangling as dw\n",
    "import pandas as pd\n",
    "import numpy as np\n",
    "import pyarrow as pa\n",
    "from dtype_diet import report_on_dataframe, optimize_dtypes\n",
    "# import seaborn as sns\n",
    "# import matplotlib.pyplot as plt\n",
    "# import plotly.express as px\n",
    "# from matplotlib import rcParams\n",
    "# from statsmodels.tsa.seasonal import STL\n",
    "# from statsmodels.graphics.tsaplots import plot_acf, plot_pacf\n",
    "# from statsforecast import StatsForecast\n",
    "# from statsforecast.models import MSTL, AutoARIMA\n",
    "\n",
    "#rcParams['figure.figsize'] = 15, 5\n",
    "\n",
    "import warnings\n",
    "warnings.filterwarnings('ignore')"
   ]
  },
  {
   "cell_type": "code",
   "execution_count": 5,
   "metadata": {},
   "outputs": [],
   "source": [
    "data = dw.ons_data(freq='h', ano_inicio=2000, ano_fim=2023, idreg=\"S\")\n",
    "df = dw.pipeline(data, update=False)"
   ]
  },
  {
   "cell_type": "code",
   "execution_count": 14,
   "metadata": {},
   "outputs": [
    {
     "name": "stdout",
     "output_type": "stream",
     "text": [
      "Original df memory: 25.94708251953125 MB\n",
      "Propsed df memory: 3.4858531951904297 MB\n"
     ]
    }
   ],
   "source": [
    "proposed_df = report_on_dataframe(df.reset_index(), unit=\"MB\")\n",
    "new_df = optimize_dtypes(df.reset_index(), proposed_df)\n",
    "print(f'Original df memory: {df.reset_index().memory_usage(deep=True).sum()/1024/1024} MB')\n",
    "print(f'Propsed df memory: {new_df.memory_usage(deep=True).sum()/1024/1024} MB')"
   ]
  },
  {
   "cell_type": "code",
   "execution_count": 7,
   "metadata": {},
   "outputs": [
    {
     "data": {
      "text/plain": [
       "id_reg: string\n",
       "desc_reg: string\n",
       "load_mwmed: double\n",
       "date: timestamp[ns]\n",
       "-- schema metadata --\n",
       "pandas: '{\"index_columns\": [\"date\"], \"column_indexes\": [{\"name\": null, \"f' + 665"
      ]
     },
     "execution_count": 7,
     "metadata": {},
     "output_type": "execute_result"
    }
   ],
   "source": [
    "my_schema = pa.Schema.from_pandas(df)\n",
    "my_schema"
   ]
  },
  {
   "cell_type": "code",
   "execution_count": 18,
   "metadata": {},
   "outputs": [],
   "source": [
    "df_novo = df.reset_index().astype({\n",
    "        \"date\": \"datetime64[ns]\",\n",
    "        \"id_reg\": \"category\",\n",
    "        \"desc_reg\": \"category\",\n",
    "        \"load_mwmed\": \"float64\"\n",
    "        })"
   ]
  },
  {
   "cell_type": "code",
   "execution_count": 21,
   "metadata": {},
   "outputs": [
    {
     "data": {
      "text/plain": [
       "date: timestamp[ns]\n",
       "id_reg: dictionary<values=string, indices=int8, ordered=0>\n",
       "desc_reg: dictionary<values=string, indices=int8, ordered=0>\n",
       "load_mwmed: double\n",
       "-- schema metadata --\n",
       "pandas: '{\"index_columns\": [{\"kind\": \"range\", \"name\": null, \"start\": 0, \"' + 803"
      ]
     },
     "execution_count": 21,
     "metadata": {},
     "output_type": "execute_result"
    }
   ],
   "source": [
    "my_schema = pa.Schema.from_pandas(df_novo)\n",
    "my_schema"
   ]
  },
  {
   "cell_type": "code",
   "execution_count": 22,
   "metadata": {},
   "outputs": [
    {
     "name": "stdout",
     "output_type": "stream",
     "text": [
      "CPU times: total: 62.5 ms\n",
      "Wall time: 112 ms\n"
     ]
    }
   ],
   "source": [
    "%%time\n",
    "df_novo.to_parquet('applications_processed.parquet')\n"
   ]
  },
  {
   "cell_type": "code",
   "execution_count": 24,
   "metadata": {},
   "outputs": [
    {
     "name": "stdout",
     "output_type": "stream",
     "text": [
      "CPU times: total: 62.5 ms\n",
      "Wall time: 61.8 ms\n"
     ]
    }
   ],
   "source": [
    "%%time\n",
    "df_novo.to_parquet('applications_processed.parquet', schema = my_schema)"
   ]
  },
  {
   "cell_type": "code",
   "execution_count": 33,
   "metadata": {},
   "outputs": [
    {
     "name": "stdout",
     "output_type": "stream",
     "text": [
      "CPU times: total: 31.2 ms\n",
      "Wall time: 31.9 ms\n"
     ]
    }
   ],
   "source": [
    "%%time\n",
    "df_t = pd.read_csv(\"../../../data/daily_load.csv\", sep=\";\")"
   ]
  },
  {
   "cell_type": "code",
   "execution_count": 34,
   "metadata": {},
   "outputs": [
    {
     "data": {
      "text/plain": [
       "date          object\n",
       "id_reg        object\n",
       "desc_reg      object\n",
       "load_mwmed    object\n",
       "dtype: object"
      ]
     },
     "execution_count": 34,
     "metadata": {},
     "output_type": "execute_result"
    }
   ],
   "source": [
    "df_t.dtypes"
   ]
  },
  {
   "cell_type": "code",
   "execution_count": 29,
   "metadata": {},
   "outputs": [
    {
     "name": "stdout",
     "output_type": "stream",
     "text": [
      "CPU times: total: 46.9 ms\n",
      "Wall time: 17 ms\n"
     ]
    }
   ],
   "source": [
    "%%time\n",
    "df_t = pd.read_parquet('applications_processed.parquet')"
   ]
  },
  {
   "cell_type": "code",
   "execution_count": 30,
   "metadata": {},
   "outputs": [
    {
     "data": {
      "text/plain": [
       "date          datetime64[ns]\n",
       "id_reg              category\n",
       "desc_reg            category\n",
       "load_mwmed           float64\n",
       "dtype: object"
      ]
     },
     "execution_count": 30,
     "metadata": {},
     "output_type": "execute_result"
    }
   ],
   "source": [
    "df_t.dtypes"
   ]
  }
 ],
 "metadata": {
  "kernelspec": {
   "display_name": "Python 3 (ipykernel)",
   "language": "python",
   "name": "python3"
  },
  "language_info": {
   "codemirror_mode": {
    "name": "ipython",
    "version": 3
   },
   "file_extension": ".py",
   "mimetype": "text/x-python",
   "name": "python",
   "nbconvert_exporter": "python",
   "pygments_lexer": "ipython3",
   "version": "3.8.16"
  }
 },
 "nbformat": 4,
 "nbformat_minor": 4
}
